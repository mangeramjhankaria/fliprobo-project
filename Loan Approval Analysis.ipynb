{
 "cells": [
  {
   "cell_type": "code",
   "execution_count": 1,
   "id": "9c32ab61",
   "metadata": {},
   "outputs": [],
   "source": [
    "# import libraries\n",
    "%matplotlib inline\n",
    "import numpy as np\n",
    "import pandas as pd\n",
    "import matplotlib.pyplot as plt\n",
    "import seaborn as sns\n",
    "import warnings\n",
    "warnings.filterwarnings(\"ignore\")"
   ]
  },
  {
   "cell_type": "code",
   "execution_count": 3,
   "id": "6a8147ea",
   "metadata": {},
   "outputs": [],
   "source": [
    "df = pd.read_csv(\"loan_prediction.csv\")"
   ]
  },
  {
   "cell_type": "code",
   "execution_count": 4,
   "id": "2aa5f41c",
   "metadata": {},
   "outputs": [
    {
     "data": {
      "text/html": [
       "<div>\n",
       "<style scoped>\n",
       "    .dataframe tbody tr th:only-of-type {\n",
       "        vertical-align: middle;\n",
       "    }\n",
       "\n",
       "    .dataframe tbody tr th {\n",
       "        vertical-align: top;\n",
       "    }\n",
       "\n",
       "    .dataframe thead th {\n",
       "        text-align: right;\n",
       "    }\n",
       "</style>\n",
       "<table border=\"1\" class=\"dataframe\">\n",
       "  <thead>\n",
       "    <tr style=\"text-align: right;\">\n",
       "      <th></th>\n",
       "      <th>Loan_ID</th>\n",
       "      <th>Gender</th>\n",
       "      <th>Married</th>\n",
       "      <th>Dependents</th>\n",
       "      <th>Education</th>\n",
       "      <th>Self_Employed</th>\n",
       "      <th>ApplicantIncome</th>\n",
       "      <th>CoapplicantIncome</th>\n",
       "      <th>LoanAmount</th>\n",
       "      <th>Loan_Amount_Term</th>\n",
       "      <th>Credit_History</th>\n",
       "      <th>Property_Area</th>\n",
       "      <th>Loan_Status</th>\n",
       "    </tr>\n",
       "  </thead>\n",
       "  <tbody>\n",
       "    <tr>\n",
       "      <th>0</th>\n",
       "      <td>LP001002</td>\n",
       "      <td>Male</td>\n",
       "      <td>No</td>\n",
       "      <td>0</td>\n",
       "      <td>Graduate</td>\n",
       "      <td>No</td>\n",
       "      <td>5849</td>\n",
       "      <td>0.0</td>\n",
       "      <td>NaN</td>\n",
       "      <td>360.0</td>\n",
       "      <td>1.0</td>\n",
       "      <td>Urban</td>\n",
       "      <td>Y</td>\n",
       "    </tr>\n",
       "    <tr>\n",
       "      <th>1</th>\n",
       "      <td>LP001003</td>\n",
       "      <td>Male</td>\n",
       "      <td>Yes</td>\n",
       "      <td>1</td>\n",
       "      <td>Graduate</td>\n",
       "      <td>No</td>\n",
       "      <td>4583</td>\n",
       "      <td>1508.0</td>\n",
       "      <td>128.0</td>\n",
       "      <td>360.0</td>\n",
       "      <td>1.0</td>\n",
       "      <td>Rural</td>\n",
       "      <td>N</td>\n",
       "    </tr>\n",
       "    <tr>\n",
       "      <th>2</th>\n",
       "      <td>LP001005</td>\n",
       "      <td>Male</td>\n",
       "      <td>Yes</td>\n",
       "      <td>0</td>\n",
       "      <td>Graduate</td>\n",
       "      <td>Yes</td>\n",
       "      <td>3000</td>\n",
       "      <td>0.0</td>\n",
       "      <td>66.0</td>\n",
       "      <td>360.0</td>\n",
       "      <td>1.0</td>\n",
       "      <td>Urban</td>\n",
       "      <td>Y</td>\n",
       "    </tr>\n",
       "    <tr>\n",
       "      <th>3</th>\n",
       "      <td>LP001006</td>\n",
       "      <td>Male</td>\n",
       "      <td>Yes</td>\n",
       "      <td>0</td>\n",
       "      <td>Not Graduate</td>\n",
       "      <td>No</td>\n",
       "      <td>2583</td>\n",
       "      <td>2358.0</td>\n",
       "      <td>120.0</td>\n",
       "      <td>360.0</td>\n",
       "      <td>1.0</td>\n",
       "      <td>Urban</td>\n",
       "      <td>Y</td>\n",
       "    </tr>\n",
       "    <tr>\n",
       "      <th>4</th>\n",
       "      <td>LP001008</td>\n",
       "      <td>Male</td>\n",
       "      <td>No</td>\n",
       "      <td>0</td>\n",
       "      <td>Graduate</td>\n",
       "      <td>No</td>\n",
       "      <td>6000</td>\n",
       "      <td>0.0</td>\n",
       "      <td>141.0</td>\n",
       "      <td>360.0</td>\n",
       "      <td>1.0</td>\n",
       "      <td>Urban</td>\n",
       "      <td>Y</td>\n",
       "    </tr>\n",
       "  </tbody>\n",
       "</table>\n",
       "</div>"
      ],
      "text/plain": [
       "    Loan_ID Gender Married Dependents     Education Self_Employed  \\\n",
       "0  LP001002   Male      No          0      Graduate            No   \n",
       "1  LP001003   Male     Yes          1      Graduate            No   \n",
       "2  LP001005   Male     Yes          0      Graduate           Yes   \n",
       "3  LP001006   Male     Yes          0  Not Graduate            No   \n",
       "4  LP001008   Male      No          0      Graduate            No   \n",
       "\n",
       "   ApplicantIncome  CoapplicantIncome  LoanAmount  Loan_Amount_Term  \\\n",
       "0             5849                0.0         NaN             360.0   \n",
       "1             4583             1508.0       128.0             360.0   \n",
       "2             3000                0.0        66.0             360.0   \n",
       "3             2583             2358.0       120.0             360.0   \n",
       "4             6000                0.0       141.0             360.0   \n",
       "\n",
       "   Credit_History Property_Area Loan_Status  \n",
       "0             1.0         Urban           Y  \n",
       "1             1.0         Rural           N  \n",
       "2             1.0         Urban           Y  \n",
       "3             1.0         Urban           Y  \n",
       "4             1.0         Urban           Y  "
      ]
     },
     "execution_count": 4,
     "metadata": {},
     "output_type": "execute_result"
    }
   ],
   "source": [
    "df.head()"
   ]
  },
  {
   "cell_type": "code",
   "execution_count": 5,
   "id": "215844bc",
   "metadata": {},
   "outputs": [
    {
     "data": {
      "text/plain": [
       "(614, 13)"
      ]
     },
     "execution_count": 5,
     "metadata": {},
     "output_type": "execute_result"
    }
   ],
   "source": [
    "\n",
    "df.shape"
   ]
  },
  {
   "cell_type": "markdown",
   "id": "983ecd5c",
   "metadata": {},
   "source": [
    "Removing irrelavent columns"
   ]
  },
  {
   "cell_type": "code",
   "execution_count": 6,
   "id": "c7af5873",
   "metadata": {},
   "outputs": [],
   "source": [
    "\n",
    "df.drop(['Loan_ID'],axis=1,inplace=True)"
   ]
  },
  {
   "cell_type": "code",
   "execution_count": 7,
   "id": "19e1cd2e",
   "metadata": {},
   "outputs": [
    {
     "name": "stdout",
     "output_type": "stream",
     "text": [
      "<class 'pandas.core.frame.DataFrame'>\n",
      "RangeIndex: 614 entries, 0 to 613\n",
      "Data columns (total 12 columns):\n",
      " #   Column             Non-Null Count  Dtype  \n",
      "---  ------             --------------  -----  \n",
      " 0   Gender             601 non-null    object \n",
      " 1   Married            611 non-null    object \n",
      " 2   Dependents         599 non-null    object \n",
      " 3   Education          614 non-null    object \n",
      " 4   Self_Employed      582 non-null    object \n",
      " 5   ApplicantIncome    614 non-null    int64  \n",
      " 6   CoapplicantIncome  614 non-null    float64\n",
      " 7   LoanAmount         592 non-null    float64\n",
      " 8   Loan_Amount_Term   600 non-null    float64\n",
      " 9   Credit_History     564 non-null    float64\n",
      " 10  Property_Area      614 non-null    object \n",
      " 11  Loan_Status        614 non-null    object \n",
      "dtypes: float64(4), int64(1), object(7)\n",
      "memory usage: 57.7+ KB\n"
     ]
    }
   ],
   "source": [
    "df.info()"
   ]
  },
  {
   "cell_type": "code",
   "execution_count": 8,
   "id": "de1fae9d",
   "metadata": {},
   "outputs": [
    {
     "data": {
      "text/plain": [
       "(614, 12)"
      ]
     },
     "execution_count": 8,
     "metadata": {},
     "output_type": "execute_result"
    }
   ],
   "source": [
    "df.shape"
   ]
  },
  {
   "cell_type": "code",
   "execution_count": 9,
   "id": "74596272",
   "metadata": {},
   "outputs": [
    {
     "name": "stdout",
     "output_type": "stream",
     "text": [
      "Gender               13\n",
      "Married               3\n",
      "Dependents           15\n",
      "Education             0\n",
      "Self_Employed        32\n",
      "ApplicantIncome       0\n",
      "CoapplicantIncome     0\n",
      "LoanAmount           22\n",
      "Loan_Amount_Term     14\n",
      "Credit_History       50\n",
      "Property_Area         0\n",
      "Loan_Status           0\n",
      "dtype: int64\n"
     ]
    }
   ],
   "source": [
    "print(df.isnull().sum())"
   ]
  },
  {
   "cell_type": "markdown",
   "id": "f0915606",
   "metadata": {},
   "source": [
    "Replacing null values with mean and mode values"
   ]
  },
  {
   "cell_type": "code",
   "execution_count": 10,
   "id": "b30b4faf",
   "metadata": {},
   "outputs": [],
   "source": [
    "df['LoanAmount']=df['LoanAmount'].fillna(df['LoanAmount'].mean())\n",
    "df['Loan_Amount_Term']=df['Loan_Amount_Term'].fillna(df['Loan_Amount_Term'].mean())\n",
    "df['Credit_History']=df['Credit_History'].fillna(df['Credit_History'].mode())"
   ]
  },
  {
   "cell_type": "code",
   "execution_count": 11,
   "id": "d4829d33",
   "metadata": {},
   "outputs": [],
   "source": [
    "#Filling Null Values\n",
    "df['Dependents'].fillna(value=df['Dependents'].mode()[0],inplace=True)\n",
    "df['Gender'].fillna(value=df['Gender'].mode()[0],inplace=True)\n",
    "df['Married'].fillna(value=df['Married'].mode()[0],inplace=True)\n",
    "df['Self_Employed'].fillna(value=df['Self_Employed'].mode()[0],inplace=True)\n",
    "df['Credit_History'].fillna(value=df['Credit_History'].mode()[0],inplace=True)"
   ]
  },
  {
   "cell_type": "code",
   "execution_count": 12,
   "id": "326c2b6e",
   "metadata": {},
   "outputs": [
    {
     "name": "stdout",
     "output_type": "stream",
     "text": [
      "Gender               0\n",
      "Married              0\n",
      "Dependents           0\n",
      "Education            0\n",
      "Self_Employed        0\n",
      "ApplicantIncome      0\n",
      "CoapplicantIncome    0\n",
      "LoanAmount           0\n",
      "Loan_Amount_Term     0\n",
      "Credit_History       0\n",
      "Property_Area        0\n",
      "Loan_Status          0\n",
      "dtype: int64\n"
     ]
    }
   ],
   "source": [
    "\n",
    "print(df.isnull().sum())"
   ]
  },
  {
   "cell_type": "code",
   "execution_count": 13,
   "id": "d983e2f8",
   "metadata": {},
   "outputs": [
    {
     "name": "stdout",
     "output_type": "stream",
     "text": [
      "<class 'pandas.core.frame.DataFrame'>\n",
      "RangeIndex: 614 entries, 0 to 613\n",
      "Data columns (total 12 columns):\n",
      " #   Column             Non-Null Count  Dtype  \n",
      "---  ------             --------------  -----  \n",
      " 0   Gender             614 non-null    object \n",
      " 1   Married            614 non-null    object \n",
      " 2   Dependents         614 non-null    object \n",
      " 3   Education          614 non-null    object \n",
      " 4   Self_Employed      614 non-null    object \n",
      " 5   ApplicantIncome    614 non-null    int64  \n",
      " 6   CoapplicantIncome  614 non-null    float64\n",
      " 7   LoanAmount         614 non-null    float64\n",
      " 8   Loan_Amount_Term   614 non-null    float64\n",
      " 9   Credit_History     614 non-null    float64\n",
      " 10  Property_Area      614 non-null    object \n",
      " 11  Loan_Status        614 non-null    object \n",
      "dtypes: float64(4), int64(1), object(7)\n",
      "memory usage: 57.7+ KB\n"
     ]
    }
   ],
   "source": [
    "df.info()"
   ]
  },
  {
   "cell_type": "markdown",
   "id": "3200171f",
   "metadata": {},
   "source": [
    "# EDA"
   ]
  },
  {
   "cell_type": "code",
   "execution_count": 14,
   "id": "362d9d75",
   "metadata": {},
   "outputs": [
    {
     "data": {
      "text/plain": [
       "<Axes: xlabel='Self_Employed', ylabel='count'>"
      ]
     },
     "execution_count": 14,
     "metadata": {},
     "output_type": "execute_result"
    },
    {
     "data": {
      "image/png": "[encoded data removed]",
      "text/plain": [
       "<Figure size 640x480 with 1 Axes>"
      ]
     },
     "metadata": {},
     "output_type": "display_data"
    }
   ],
   "source": [
    "sns.countplot(x='Self_Employed',hue='Loan_Status',data=df)"
   ]
  },
  {
   "cell_type": "code",
   "execution_count": 15,
   "id": "8868eea3",
   "metadata": {},
   "outputs": [
    {
     "data": {
      "text/plain": [
       "<Axes: xlabel='Loan_Amount_Term', ylabel='count'>"
      ]
     },
     "execution_count": 15,
     "metadata": {},
     "output_type": "execute_result"
    },
    {
     "data": {
      "image/png": "[encoded data removed]",
      "text/plain": [
       "<Figure size 640x480 with 1 Axes>"
      ]
     },
     "metadata": {},
     "output_type": "display_data"
    }
   ],
   "source": [
    "sns.countplot(x='Loan_Amount_Term',hue='Loan_Status',data=df)"
   ]
  },
  {
   "cell_type": "markdown",
   "id": "beccd5c3",
   "metadata": {},
   "source": [
    "Most of the people who applied for loan asked for 360 months of term more half are getting approved People those are taking loan for 480 months, most of them are getting approval"
   ]
  },
  {
   "cell_type": "code",
   "execution_count": 16,
   "id": "7f93430a",
   "metadata": {},
   "outputs": [
    {
     "data": {
      "text/plain": [
       "<Axes: xlabel='Credit_History', ylabel='count'>"
      ]
     },
     "execution_count": 16,
     "metadata": {},
     "output_type": "execute_result"
    },
    {
     "data": {
      "image/png": "[encoded data removed]",
      "text/plain": [
       "<Figure size 640x480 with 1 Axes>"
      ]
     },
     "metadata": {},
     "output_type": "display_data"
    }
   ],
   "source": [
    "sns.countplot(x='Credit_History',hue='Loan_Status',data=df)"
   ]
  },
  {
   "cell_type": "code",
   "execution_count": 17,
   "id": "5d70bb4d",
   "metadata": {},
   "outputs": [
    {
     "data": {
      "text/plain": [
       "<Axes: xlabel='Dependents', ylabel='count'>"
      ]
     },
     "execution_count": 17,
     "metadata": {},
     "output_type": "execute_result"
    },
    {
     "data": {
      "image/png": "[encoded data removed]",
      "text/plain": [
       "<Figure size 640x480 with 1 Axes>"
      ]
     },
     "metadata": {},
     "output_type": "display_data"
    }
   ],
   "source": [
    "sns.countplot(x='Dependents',hue='Loan_Status',data=df)"
   ]
  },
  {
   "cell_type": "markdown",
   "id": "410b2108",
   "metadata": {},
   "source": [
    "We can notice people those are not having dependents are getting chances of Loan approval"
   ]
  },
  {
   "cell_type": "code",
   "execution_count": 18,
   "id": "513fefe7",
   "metadata": {},
   "outputs": [
    {
     "data": {
      "text/plain": [
       "<Axes: xlabel='Property_Area', ylabel='count'>"
      ]
     },
     "execution_count": 18,
     "metadata": {},
     "output_type": "execute_result"
    },
    {
     "data": {
      "image/png": "[encoded data removed]",
      "text/plain": [
       "<Figure size 640x480 with 1 Axes>"
      ]
     },
     "metadata": {},
     "output_type": "display_data"
    }
   ],
   "source": [
    "sns.countplot(x='Property_Area',hue='Loan_Status',data=df)"
   ]
  },
  {
   "cell_type": "code",
   "execution_count": 19,
   "id": "ff573b28",
   "metadata": {},
   "outputs": [
    {
     "data": {
      "text/plain": [
       "<Axes: xlabel='Loan_Status', ylabel='ApplicantIncome'>"
      ]
     },
     "execution_count": 19,
     "metadata": {},
     "output_type": "execute_result"
    },
    {
     "data": {
      "image/png": "[encoded data removed]",
      "text/plain": [
       "<Figure size 640x480 with 1 Axes>"
      ]
     },
     "metadata": {},
     "output_type": "display_data"
    }
   ],
   "source": [
    "sns.barplot(y='ApplicantIncome',x='Loan_Status',data=df)"
   ]
  },
  {
   "cell_type": "code",
   "execution_count": 20,
   "id": "3cc1f31f",
   "metadata": {},
   "outputs": [
    {
     "data": {
      "text/plain": [
       "<Axes: xlabel='Loan_Status', ylabel='CoapplicantIncome'>"
      ]
     },
     "execution_count": 20,
     "metadata": {},
     "output_type": "execute_result"
    },
    {
     "data": {
      "image/png": "[encoded data removed]",
      "text/plain": [
       "<Figure size 640x480 with 1 Axes>"
      ]
     },
     "metadata": {},
     "output_type": "display_data"
    }
   ],
   "source": [
    "sns.barplot(y='CoapplicantIncome',x='Loan_Status',data=df)"
   ]
  },
  {
   "cell_type": "code",
   "execution_count": 21,
   "id": "f061f85d",
   "metadata": {},
   "outputs": [
    {
     "data": {
      "text/plain": [
       "<Axes: >"
      ]
     },
     "execution_count": 21,
     "metadata": {},
     "output_type": "execute_result"
    },
    {
     "data": {
      "image/png": "[encoded data removed]",
      "text/plain": [
       "<Figure size 640x480 with 1 Axes>"
      ]
     },
     "metadata": {},
     "output_type": "display_data"
    }
   ],
   "source": [
    "\n",
    "df['LoanAmount'].hist(bins=50)"
   ]
  },
  {
   "cell_type": "code",
   "execution_count": 22,
   "id": "a50c904f",
   "metadata": {},
   "outputs": [
    {
     "data": {
      "text/html": [
       "<div>\n",
       "<style scoped>\n",
       "    .dataframe tbody tr th:only-of-type {\n",
       "        vertical-align: middle;\n",
       "    }\n",
       "\n",
       "    .dataframe tbody tr th {\n",
       "        vertical-align: top;\n",
       "    }\n",
       "\n",
       "    .dataframe thead th {\n",
       "        text-align: right;\n",
       "    }\n",
       "</style>\n",
       "<table border=\"1\" class=\"dataframe\">\n",
       "  <thead>\n",
       "    <tr style=\"text-align: right;\">\n",
       "      <th></th>\n",
       "      <th>Gender</th>\n",
       "      <th>Married</th>\n",
       "      <th>Dependents</th>\n",
       "      <th>Education</th>\n",
       "      <th>Self_Employed</th>\n",
       "      <th>ApplicantIncome</th>\n",
       "      <th>CoapplicantIncome</th>\n",
       "      <th>LoanAmount</th>\n",
       "      <th>Loan_Amount_Term</th>\n",
       "      <th>Credit_History</th>\n",
       "      <th>Property_Area</th>\n",
       "      <th>Loan_Status</th>\n",
       "    </tr>\n",
       "  </thead>\n",
       "  <tbody>\n",
       "    <tr>\n",
       "      <th>Gender</th>\n",
       "      <td>1.000000</td>\n",
       "      <td>-0.364569</td>\n",
       "      <td>-0.172914</td>\n",
       "      <td>-0.045364</td>\n",
       "      <td>0.000525</td>\n",
       "      <td>0.005853</td>\n",
       "      <td>-0.172693</td>\n",
       "      <td>0.030239</td>\n",
       "      <td>-0.031319</td>\n",
       "      <td>0.009170</td>\n",
       "      <td>0.082045</td>\n",
       "      <td>0.017987</td>\n",
       "    </tr>\n",
       "    <tr>\n",
       "      <th>Married</th>\n",
       "      <td>-0.364569</td>\n",
       "      <td>1.000000</td>\n",
       "      <td>0.334216</td>\n",
       "      <td>0.012304</td>\n",
       "      <td>0.004489</td>\n",
       "      <td>-0.003163</td>\n",
       "      <td>0.233224</td>\n",
       "      <td>0.003281</td>\n",
       "      <td>0.028283</td>\n",
       "      <td>-0.010938</td>\n",
       "      <td>0.003071</td>\n",
       "      <td>-0.091478</td>\n",
       "    </tr>\n",
       "    <tr>\n",
       "      <th>Dependents</th>\n",
       "      <td>-0.172914</td>\n",
       "      <td>0.334216</td>\n",
       "      <td>1.000000</td>\n",
       "      <td>0.055752</td>\n",
       "      <td>0.056798</td>\n",
       "      <td>0.079403</td>\n",
       "      <td>-0.007295</td>\n",
       "      <td>0.053924</td>\n",
       "      <td>0.056024</td>\n",
       "      <td>0.040160</td>\n",
       "      <td>0.001781</td>\n",
       "      <td>-0.010118</td>\n",
       "    </tr>\n",
       "    <tr>\n",
       "      <th>Education</th>\n",
       "      <td>-0.045364</td>\n",
       "      <td>0.012304</td>\n",
       "      <td>0.055752</td>\n",
       "      <td>1.000000</td>\n",
       "      <td>-0.010383</td>\n",
       "      <td>0.073543</td>\n",
       "      <td>0.084689</td>\n",
       "      <td>-0.072995</td>\n",
       "      <td>0.078645</td>\n",
       "      <td>0.073658</td>\n",
       "      <td>-0.003592</td>\n",
       "      <td>0.085884</td>\n",
       "    </tr>\n",
       "    <tr>\n",
       "      <th>Self_Employed</th>\n",
       "      <td>0.000525</td>\n",
       "      <td>0.004489</td>\n",
       "      <td>0.056798</td>\n",
       "      <td>-0.010383</td>\n",
       "      <td>1.000000</td>\n",
       "      <td>0.005906</td>\n",
       "      <td>-0.080509</td>\n",
       "      <td>-0.008925</td>\n",
       "      <td>0.008366</td>\n",
       "      <td>0.001550</td>\n",
       "      <td>0.021996</td>\n",
       "      <td>0.003700</td>\n",
       "    </tr>\n",
       "    <tr>\n",
       "      <th>ApplicantIncome</th>\n",
       "      <td>0.005853</td>\n",
       "      <td>-0.003163</td>\n",
       "      <td>0.079403</td>\n",
       "      <td>0.073543</td>\n",
       "      <td>0.005906</td>\n",
       "      <td>1.000000</td>\n",
       "      <td>0.378095</td>\n",
       "      <td>0.365594</td>\n",
       "      <td>-0.013189</td>\n",
       "      <td>0.031103</td>\n",
       "      <td>0.078590</td>\n",
       "      <td>-0.018675</td>\n",
       "    </tr>\n",
       "    <tr>\n",
       "      <th>CoapplicantIncome</th>\n",
       "      <td>-0.172693</td>\n",
       "      <td>0.233224</td>\n",
       "      <td>-0.007295</td>\n",
       "      <td>0.084689</td>\n",
       "      <td>-0.080509</td>\n",
       "      <td>0.378095</td>\n",
       "      <td>1.000000</td>\n",
       "      <td>0.203701</td>\n",
       "      <td>0.060137</td>\n",
       "      <td>-0.029919</td>\n",
       "      <td>0.018346</td>\n",
       "      <td>-0.084419</td>\n",
       "    </tr>\n",
       "    <tr>\n",
       "      <th>LoanAmount</th>\n",
       "      <td>0.030239</td>\n",
       "      <td>0.003281</td>\n",
       "      <td>0.053924</td>\n",
       "      <td>-0.072995</td>\n",
       "      <td>-0.008925</td>\n",
       "      <td>0.365594</td>\n",
       "      <td>0.203701</td>\n",
       "      <td>1.000000</td>\n",
       "      <td>0.020456</td>\n",
       "      <td>0.032487</td>\n",
       "      <td>0.114591</td>\n",
       "      <td>0.040160</td>\n",
       "    </tr>\n",
       "    <tr>\n",
       "      <th>Loan_Amount_Term</th>\n",
       "      <td>-0.031319</td>\n",
       "      <td>0.028283</td>\n",
       "      <td>0.056024</td>\n",
       "      <td>0.078645</td>\n",
       "      <td>0.008366</td>\n",
       "      <td>-0.013189</td>\n",
       "      <td>0.060137</td>\n",
       "      <td>0.020456</td>\n",
       "      <td>1.000000</td>\n",
       "      <td>0.081384</td>\n",
       "      <td>-0.066941</td>\n",
       "      <td>0.085191</td>\n",
       "    </tr>\n",
       "    <tr>\n",
       "      <th>Credit_History</th>\n",
       "      <td>0.009170</td>\n",
       "      <td>-0.010938</td>\n",
       "      <td>0.040160</td>\n",
       "      <td>0.073658</td>\n",
       "      <td>0.001550</td>\n",
       "      <td>0.031103</td>\n",
       "      <td>-0.029919</td>\n",
       "      <td>0.032487</td>\n",
       "      <td>0.081384</td>\n",
       "      <td>1.000000</td>\n",
       "      <td>-0.030248</td>\n",
       "      <td>0.540556</td>\n",
       "    </tr>\n",
       "    <tr>\n",
       "      <th>Property_Area</th>\n",
       "      <td>0.082045</td>\n",
       "      <td>0.003071</td>\n",
       "      <td>0.001781</td>\n",
       "      <td>-0.003592</td>\n",
       "      <td>0.021996</td>\n",
       "      <td>0.078590</td>\n",
       "      <td>0.018346</td>\n",
       "      <td>0.114591</td>\n",
       "      <td>-0.066941</td>\n",
       "      <td>-0.030248</td>\n",
       "      <td>1.000000</td>\n",
       "      <td>-0.103253</td>\n",
       "    </tr>\n",
       "    <tr>\n",
       "      <th>Loan_Status</th>\n",
       "      <td>0.017987</td>\n",
       "      <td>-0.091478</td>\n",
       "      <td>-0.010118</td>\n",
       "      <td>0.085884</td>\n",
       "      <td>0.003700</td>\n",
       "      <td>-0.018675</td>\n",
       "      <td>-0.084419</td>\n",
       "      <td>0.040160</td>\n",
       "      <td>0.085191</td>\n",
       "      <td>0.540556</td>\n",
       "      <td>-0.103253</td>\n",
       "      <td>1.000000</td>\n",
       "    </tr>\n",
       "  </tbody>\n",
       "</table>\n",
       "</div>"
      ],
      "text/plain": [
       "                     Gender   Married  Dependents  Education  Self_Employed  \\\n",
       "Gender             1.000000 -0.364569   -0.172914  -0.045364       0.000525   \n",
       "Married           -0.364569  1.000000    0.334216   0.012304       0.004489   \n",
       "Dependents        -0.172914  0.334216    1.000000   0.055752       0.056798   \n",
       "Education         -0.045364  0.012304    0.055752   1.000000      -0.010383   \n",
       "Self_Employed      0.000525  0.004489    0.056798  -0.010383       1.000000   \n",
       "ApplicantIncome    0.005853 -0.003163    0.079403   0.073543       0.005906   \n",
       "CoapplicantIncome -0.172693  0.233224   -0.007295   0.084689      -0.080509   \n",
       "LoanAmount         0.030239  0.003281    0.053924  -0.072995      -0.008925   \n",
       "Loan_Amount_Term  -0.031319  0.028283    0.056024   0.078645       0.008366   \n",
       "Credit_History     0.009170 -0.010938    0.040160   0.073658       0.001550   \n",
       "Property_Area      0.082045  0.003071    0.001781  -0.003592       0.021996   \n",
       "Loan_Status        0.017987 -0.091478   -0.010118   0.085884       0.003700   \n",
       "\n",
       "                   ApplicantIncome  CoapplicantIncome  LoanAmount  \\\n",
       "Gender                    0.005853          -0.172693    0.030239   \n",
       "Married                  -0.003163           0.233224    0.003281   \n",
       "Dependents                0.079403          -0.007295    0.053924   \n",
       "Education                 0.073543           0.084689   -0.072995   \n",
       "Self_Employed             0.005906          -0.080509   -0.008925   \n",
       "ApplicantIncome           1.000000           0.378095    0.365594   \n",
       "CoapplicantIncome         0.378095           1.000000    0.203701   \n",
       "LoanAmount                0.365594           0.203701    1.000000   \n",
       "Loan_Amount_Term         -0.013189           0.060137    0.020456   \n",
       "Credit_History            0.031103          -0.029919    0.032487   \n",
       "Property_Area             0.078590           0.018346    0.114591   \n",
       "Loan_Status              -0.018675          -0.084419    0.040160   \n",
       "\n",
       "                   Loan_Amount_Term  Credit_History  Property_Area  \\\n",
       "Gender                    -0.031319        0.009170       0.082045   \n",
       "Married                    0.028283       -0.010938       0.003071   \n",
       "Dependents                 0.056024        0.040160       0.001781   \n",
       "Education                  0.078645        0.073658      -0.003592   \n",
       "Self_Employed              0.008366        0.001550       0.021996   \n",
       "ApplicantIncome           -0.013189        0.031103       0.078590   \n",
       "CoapplicantIncome          0.060137       -0.029919       0.018346   \n",
       "LoanAmount                 0.020456        0.032487       0.114591   \n",
       "Loan_Amount_Term           1.000000        0.081384      -0.066941   \n",
       "Credit_History             0.081384        1.000000      -0.030248   \n",
       "Property_Area             -0.066941       -0.030248       1.000000   \n",
       "Loan_Status                0.085191        0.540556      -0.103253   \n",
       "\n",
       "                   Loan_Status  \n",
       "Gender                0.017987  \n",
       "Married              -0.091478  \n",
       "Dependents           -0.010118  \n",
       "Education             0.085884  \n",
       "Self_Employed         0.003700  \n",
       "ApplicantIncome      -0.018675  \n",
       "CoapplicantIncome    -0.084419  \n",
       "LoanAmount            0.040160  \n",
       "Loan_Amount_Term      0.085191  \n",
       "Credit_History        0.540556  \n",
       "Property_Area        -0.103253  \n",
       "Loan_Status           1.000000  "
      ]
     },
     "execution_count": 22,
     "metadata": {},
     "output_type": "execute_result"
    }
   ],
   "source": [
    "df_corr=df.apply(lambda x : pd.factorize(x)[0]).corr(method='pearson', min_periods=1)\n",
    "df_corr"
   ]
  },
  {
   "cell_type": "code",
   "execution_count": 23,
   "id": "43d2a5d9",
   "metadata": {},
   "outputs": [
    {
     "data": {
      "text/plain": [
       "<Axes: >"
      ]
     },
     "execution_count": 23,
     "metadata": {},
     "output_type": "execute_result"
    },
    {
     "data": {
      "image/png": "[encoded data removed]",
      "text/plain": [
       "<Figure size 2400x1000 with 2 Axes>"
      ]
     },
     "metadata": {},
     "output_type": "display_data"
    }
   ],
   "source": [
    "plt.figure(figsize=[24,10])\n",
    "sns.heatmap(df_corr)"
   ]
  },
  {
   "cell_type": "markdown",
   "id": "67ee69cf",
   "metadata": {},
   "source": [
    "# Data pre-processing"
   ]
  },
  {
   "cell_type": "code",
   "execution_count": 24,
   "id": "9d7d6e91",
   "metadata": {},
   "outputs": [
    {
     "name": "stdout",
     "output_type": "stream",
     "text": [
      "Gender               0\n",
      "Married              0\n",
      "Dependents           0\n",
      "Education            0\n",
      "Self_Employed        0\n",
      "ApplicantIncome      0\n",
      "CoapplicantIncome    0\n",
      "LoanAmount           0\n",
      "Loan_Amount_Term     0\n",
      "Credit_History       0\n",
      "Property_Area        0\n",
      "Loan_Status          0\n",
      "dtype: int64\n"
     ]
    }
   ],
   "source": [
    "print(df.isnull().sum())"
   ]
  },
  {
   "cell_type": "markdown",
   "id": "acaa5a0c",
   "metadata": {},
   "source": [
    "# Encoding"
   ]
  },
  {
   "cell_type": "code",
   "execution_count": 25,
   "id": "4feda995",
   "metadata": {},
   "outputs": [],
   "source": [
    "from sklearn.preprocessing import LabelEncoder\n",
    "LE=LabelEncoder()\n",
    "df['Education']=LE.fit_transform(df['Education'])\n",
    "df['Gender']=LE.fit_transform(df['Gender'])\n",
    "df['Married']=LE.fit_transform(df['Married'])\n",
    "df['Dependents']=LE.fit_transform(df['Dependents'])\n",
    "df['Self_Employed']=LE.fit_transform(df['Self_Employed'])\n",
    "df['Property_Area']=LE.fit_transform(df['Property_Area'])\n",
    "df['Loan_Status']=LE.fit_transform(df['Loan_Status'])"
   ]
  },
  {
   "cell_type": "code",
   "execution_count": 26,
   "id": "d9a021f2",
   "metadata": {},
   "outputs": [
    {
     "data": {
      "image/png": "[encoded data removed]",
      "text/plain": [
       "<Figure size 1800x1500 with 12 Axes>"
      ]
     },
     "metadata": {},
     "output_type": "display_data"
    }
   ],
   "source": [
    "plt.figure(figsize=(18,15))\n",
    "for i in enumerate(df.columns):\n",
    "    plt.subplot(8,4,i[0]+1)\n",
    "    sns.distplot(df[i[1]],color='b')"
   ]
  },
  {
   "cell_type": "code",
   "execution_count": 27,
   "id": "2e0635dc",
   "metadata": {},
   "outputs": [
    {
     "data": {
      "image/png": "[encoded data removed]",
      "text/plain": [
       "<Figure size 1800x1000 with 12 Axes>"
      ]
     },
     "metadata": {},
     "output_type": "display_data"
    }
   ],
   "source": [
    "plt.figure(figsize=(18,10))\n",
    "for o in enumerate(df):\n",
    "    plt.subplot(9,4,o[0]+1)\n",
    "    sns.boxplot(df[o[1]])"
   ]
  },
  {
   "cell_type": "markdown",
   "id": "fb5cd688",
   "metadata": {},
   "source": [
    "# skewness and outlier removal"
   ]
  },
  {
   "cell_type": "code",
   "execution_count": 28,
   "id": "84993603",
   "metadata": {},
   "outputs": [
    {
     "data": {
      "text/plain": [
       "Gender              -1.648795\n",
       "Married             -0.644850\n",
       "Dependents           1.015551\n",
       "Education            1.367622\n",
       "Self_Employed        2.159796\n",
       "ApplicantIncome      6.539513\n",
       "CoapplicantIncome    7.491531\n",
       "LoanAmount           2.726601\n",
       "Loan_Amount_Term    -2.389680\n",
       "Credit_History      -2.021971\n",
       "Property_Area       -0.066196\n",
       "Loan_Status         -0.809998\n",
       "dtype: float64"
      ]
     },
     "execution_count": 28,
     "metadata": {},
     "output_type": "execute_result"
    }
   ],
   "source": [
    "df.skew()"
   ]
  },
  {
   "cell_type": "code",
   "execution_count": 29,
   "id": "8c84fd68",
   "metadata": {},
   "outputs": [
    {
     "name": "stdout",
     "output_type": "stream",
     "text": [
      "Old Shape:  (614, 12)\n",
      "       Gender   Married  Dependents  Education  Self_Employed  \\\n",
      "0    0.472343  1.372089    0.737806   0.528362       0.392601   \n",
      "1    0.472343  0.728816    0.253470   0.528362       0.392601   \n",
      "2    0.472343  0.728816    0.737806   0.528362       2.547117   \n",
      "3    0.472343  0.728816    0.737806   1.892641       0.392601   \n",
      "4    0.472343  1.372089    0.737806   0.528362       0.392601   \n",
      "..        ...       ...         ...        ...            ...   \n",
      "609  2.117107  1.372089    0.737806   0.528362       0.392601   \n",
      "610  0.472343  0.728816    2.236021   0.528362       0.392601   \n",
      "611  0.472343  0.728816    0.253470   0.528362       0.392601   \n",
      "612  0.472343  0.728816    1.244745   0.528362       0.392601   \n",
      "613  2.117107  1.372089    0.737806   0.528362       2.547117   \n",
      "\n",
      "     ApplicantIncome  CoapplicantIncome  LoanAmount  Loan_Amount_Term  \\\n",
      "0           0.072991           0.554487    0.000000          0.279851   \n",
      "1           0.134412           0.038732    0.219273          0.279851   \n",
      "2           0.393747           0.554487    0.957641          0.279851   \n",
      "3           0.462062           0.251980    0.314547          0.279851   \n",
      "4           0.097728           0.554487    0.064454          0.279851   \n",
      "..               ...                ...         ...               ...   \n",
      "609         0.410130           0.554487    0.898095          0.279851   \n",
      "610         0.212557           0.554487    1.267279          2.518655   \n",
      "611         0.437174           0.472404    1.269371          0.279851   \n",
      "612         0.357064           0.554487    0.483367          0.279851   \n",
      "613         0.134412           0.554487    0.159728          0.279851   \n",
      "\n",
      "     Credit_History  Property_Area  Loan_Status  \n",
      "0          0.411733       1.223298     0.674519  \n",
      "1          0.411733       1.318513     1.482537  \n",
      "2          0.411733       1.223298     0.674519  \n",
      "3          0.411733       1.223298     0.674519  \n",
      "4          0.411733       1.223298     0.674519  \n",
      "..              ...            ...          ...  \n",
      "609        0.411733       1.318513     0.674519  \n",
      "610        0.411733       1.318513     0.674519  \n",
      "611        0.411733       1.223298     0.674519  \n",
      "612        0.411733       1.223298     0.674519  \n",
      "613        2.428760       0.047607     1.482537  \n",
      "\n",
      "[614 rows x 12 columns]\n"
     ]
    }
   ],
   "source": [
    "from scipy import stats\n",
    "import numpy as np\n",
    "print(\"Old Shape: \", df.shape)   \n",
    "z = np.abs(stats.zscore(df))\n",
    "print(z)"
   ]
  },
  {
   "cell_type": "code",
   "execution_count": 30,
   "id": "82d6ba6e",
   "metadata": {},
   "outputs": [
    {
     "name": "stdout",
     "output_type": "stream",
     "text": [
      "(array([  9,  14,  68,  94, 126, 130, 133, 155, 155, 171, 171, 177, 177,\n",
      "       183, 185, 242, 262, 278, 308, 313, 333, 333, 369, 402, 409, 417,\n",
      "       432, 443, 487, 495, 497, 506, 523, 525, 546, 561, 575, 581, 585,\n",
      "       600, 604], dtype=int64), array([6, 8, 8, 8, 5, 7, 8, 5, 7, 5, 7, 6, 7, 5, 5, 8, 8, 7, 7, 8, 5, 7,\n",
      "       7, 6, 5, 6, 7, 5, 7, 8, 8, 7, 7, 7, 8, 7, 8, 6, 8, 6, 7],\n",
      "      dtype=int64))\n"
     ]
    }
   ],
   "source": [
    "threshold = 3\n",
    "print(np.where(z > 3))"
   ]
  },
  {
   "cell_type": "code",
   "execution_count": 31,
   "id": "327fde33",
   "metadata": {},
   "outputs": [],
   "source": [
    "after_zscore = df[(z < 3).all(axis=1)]"
   ]
  },
  {
   "cell_type": "code",
   "execution_count": 32,
   "id": "59887508",
   "metadata": {},
   "outputs": [
    {
     "data": {
      "text/plain": [
       "(577, 12)"
      ]
     },
     "execution_count": 32,
     "metadata": {},
     "output_type": "execute_result"
    }
   ],
   "source": [
    "after_zscore.shape"
   ]
  },
  {
   "cell_type": "code",
   "execution_count": 33,
   "id": "9d1c45d2",
   "metadata": {},
   "outputs": [
    {
     "data": {
      "text/plain": [
       "(614, 12)"
      ]
     },
     "execution_count": 33,
     "metadata": {},
     "output_type": "execute_result"
    }
   ],
   "source": [
    "df.shape"
   ]
  },
  {
   "cell_type": "code",
   "execution_count": 34,
   "id": "4c78f658",
   "metadata": {},
   "outputs": [],
   "source": [
    "df=after_zscore"
   ]
  },
  {
   "cell_type": "code",
   "execution_count": 35,
   "id": "508c875a",
   "metadata": {},
   "outputs": [
    {
     "data": {
      "text/plain": [
       "Gender              -1.622920\n",
       "Married             -0.630211\n",
       "Dependents           1.052106\n",
       "Education            1.306588\n",
       "Self_Employed        2.252848\n",
       "ApplicantIncome      2.148522\n",
       "CoapplicantIncome    1.350517\n",
       "LoanAmount           1.113132\n",
       "Loan_Amount_Term    -2.077031\n",
       "Credit_History      -1.976043\n",
       "Property_Area       -0.055332\n",
       "Loan_Status         -0.822635\n",
       "dtype: float64"
      ]
     },
     "execution_count": 35,
     "metadata": {},
     "output_type": "execute_result"
    }
   ],
   "source": [
    "df.skew()"
   ]
  },
  {
   "cell_type": "code",
   "execution_count": 36,
   "id": "c1c1c83e",
   "metadata": {},
   "outputs": [
    {
     "data": {
      "text/html": [
       "<div>\n",
       "<style scoped>\n",
       "    .dataframe tbody tr th:only-of-type {\n",
       "        vertical-align: middle;\n",
       "    }\n",
       "\n",
       "    .dataframe tbody tr th {\n",
       "        vertical-align: top;\n",
       "    }\n",
       "\n",
       "    .dataframe thead th {\n",
       "        text-align: right;\n",
       "    }\n",
       "</style>\n",
       "<table border=\"1\" class=\"dataframe\">\n",
       "  <thead>\n",
       "    <tr style=\"text-align: right;\">\n",
       "      <th></th>\n",
       "      <th>Gender</th>\n",
       "      <th>Married</th>\n",
       "      <th>Dependents</th>\n",
       "      <th>Education</th>\n",
       "      <th>Self_Employed</th>\n",
       "      <th>ApplicantIncome</th>\n",
       "      <th>CoapplicantIncome</th>\n",
       "      <th>LoanAmount</th>\n",
       "      <th>Loan_Amount_Term</th>\n",
       "      <th>Credit_History</th>\n",
       "      <th>Property_Area</th>\n",
       "      <th>Loan_Status</th>\n",
       "    </tr>\n",
       "  </thead>\n",
       "  <tbody>\n",
       "    <tr>\n",
       "      <th>0</th>\n",
       "      <td>1.0</td>\n",
       "      <td>0.0</td>\n",
       "      <td>0.000000</td>\n",
       "      <td>0.0</td>\n",
       "      <td>0.0</td>\n",
       "      <td>76.478755</td>\n",
       "      <td>0.000000</td>\n",
       "      <td>12.100089</td>\n",
       "      <td>18.973666</td>\n",
       "      <td>1.0</td>\n",
       "      <td>1.414214</td>\n",
       "      <td>1.0</td>\n",
       "    </tr>\n",
       "    <tr>\n",
       "      <th>1</th>\n",
       "      <td>1.0</td>\n",
       "      <td>1.0</td>\n",
       "      <td>1.000000</td>\n",
       "      <td>0.0</td>\n",
       "      <td>0.0</td>\n",
       "      <td>67.697858</td>\n",
       "      <td>38.832976</td>\n",
       "      <td>11.313708</td>\n",
       "      <td>18.973666</td>\n",
       "      <td>1.0</td>\n",
       "      <td>0.000000</td>\n",
       "      <td>0.0</td>\n",
       "    </tr>\n",
       "    <tr>\n",
       "      <th>2</th>\n",
       "      <td>1.0</td>\n",
       "      <td>1.0</td>\n",
       "      <td>0.000000</td>\n",
       "      <td>0.0</td>\n",
       "      <td>1.0</td>\n",
       "      <td>54.772256</td>\n",
       "      <td>0.000000</td>\n",
       "      <td>8.124038</td>\n",
       "      <td>18.973666</td>\n",
       "      <td>1.0</td>\n",
       "      <td>1.414214</td>\n",
       "      <td>1.0</td>\n",
       "    </tr>\n",
       "    <tr>\n",
       "      <th>3</th>\n",
       "      <td>1.0</td>\n",
       "      <td>1.0</td>\n",
       "      <td>0.000000</td>\n",
       "      <td>1.0</td>\n",
       "      <td>0.0</td>\n",
       "      <td>50.823223</td>\n",
       "      <td>48.559242</td>\n",
       "      <td>10.954451</td>\n",
       "      <td>18.973666</td>\n",
       "      <td>1.0</td>\n",
       "      <td>1.414214</td>\n",
       "      <td>1.0</td>\n",
       "    </tr>\n",
       "    <tr>\n",
       "      <th>4</th>\n",
       "      <td>1.0</td>\n",
       "      <td>0.0</td>\n",
       "      <td>0.000000</td>\n",
       "      <td>0.0</td>\n",
       "      <td>0.0</td>\n",
       "      <td>77.459667</td>\n",
       "      <td>0.000000</td>\n",
       "      <td>11.874342</td>\n",
       "      <td>18.973666</td>\n",
       "      <td>1.0</td>\n",
       "      <td>1.414214</td>\n",
       "      <td>1.0</td>\n",
       "    </tr>\n",
       "    <tr>\n",
       "      <th>5</th>\n",
       "      <td>1.0</td>\n",
       "      <td>1.0</td>\n",
       "      <td>1.414214</td>\n",
       "      <td>0.0</td>\n",
       "      <td>1.0</td>\n",
       "      <td>73.600272</td>\n",
       "      <td>64.776539</td>\n",
       "      <td>16.340135</td>\n",
       "      <td>18.973666</td>\n",
       "      <td>1.0</td>\n",
       "      <td>1.414214</td>\n",
       "      <td>1.0</td>\n",
       "    </tr>\n",
       "    <tr>\n",
       "      <th>6</th>\n",
       "      <td>1.0</td>\n",
       "      <td>1.0</td>\n",
       "      <td>0.000000</td>\n",
       "      <td>1.0</td>\n",
       "      <td>0.0</td>\n",
       "      <td>48.301139</td>\n",
       "      <td>38.935845</td>\n",
       "      <td>9.746794</td>\n",
       "      <td>18.973666</td>\n",
       "      <td>1.0</td>\n",
       "      <td>1.414214</td>\n",
       "      <td>1.0</td>\n",
       "    </tr>\n",
       "    <tr>\n",
       "      <th>7</th>\n",
       "      <td>1.0</td>\n",
       "      <td>1.0</td>\n",
       "      <td>1.732051</td>\n",
       "      <td>0.0</td>\n",
       "      <td>0.0</td>\n",
       "      <td>55.099909</td>\n",
       "      <td>50.039984</td>\n",
       "      <td>12.569805</td>\n",
       "      <td>18.973666</td>\n",
       "      <td>0.0</td>\n",
       "      <td>1.000000</td>\n",
       "      <td>0.0</td>\n",
       "    </tr>\n",
       "    <tr>\n",
       "      <th>8</th>\n",
       "      <td>1.0</td>\n",
       "      <td>1.0</td>\n",
       "      <td>1.414214</td>\n",
       "      <td>0.0</td>\n",
       "      <td>0.0</td>\n",
       "      <td>63.292970</td>\n",
       "      <td>39.064050</td>\n",
       "      <td>12.961481</td>\n",
       "      <td>18.973666</td>\n",
       "      <td>1.0</td>\n",
       "      <td>1.414214</td>\n",
       "      <td>1.0</td>\n",
       "    </tr>\n",
       "    <tr>\n",
       "      <th>10</th>\n",
       "      <td>1.0</td>\n",
       "      <td>1.0</td>\n",
       "      <td>1.414214</td>\n",
       "      <td>0.0</td>\n",
       "      <td>0.0</td>\n",
       "      <td>56.568542</td>\n",
       "      <td>26.457513</td>\n",
       "      <td>8.366600</td>\n",
       "      <td>18.973666</td>\n",
       "      <td>1.0</td>\n",
       "      <td>1.414214</td>\n",
       "      <td>1.0</td>\n",
       "    </tr>\n",
       "    <tr>\n",
       "      <th>11</th>\n",
       "      <td>1.0</td>\n",
       "      <td>1.0</td>\n",
       "      <td>1.414214</td>\n",
       "      <td>0.0</td>\n",
       "      <td>0.0</td>\n",
       "      <td>50.000000</td>\n",
       "      <td>42.895221</td>\n",
       "      <td>10.440307</td>\n",
       "      <td>18.973666</td>\n",
       "      <td>1.0</td>\n",
       "      <td>1.414214</td>\n",
       "      <td>1.0</td>\n",
       "    </tr>\n",
       "    <tr>\n",
       "      <th>12</th>\n",
       "      <td>1.0</td>\n",
       "      <td>1.0</td>\n",
       "      <td>1.414214</td>\n",
       "      <td>0.0</td>\n",
       "      <td>0.0</td>\n",
       "      <td>55.434646</td>\n",
       "      <td>90.033327</td>\n",
       "      <td>14.142136</td>\n",
       "      <td>18.973666</td>\n",
       "      <td>1.0</td>\n",
       "      <td>1.414214</td>\n",
       "      <td>1.0</td>\n",
       "    </tr>\n",
       "    <tr>\n",
       "      <th>13</th>\n",
       "      <td>1.0</td>\n",
       "      <td>0.0</td>\n",
       "      <td>0.000000</td>\n",
       "      <td>0.0</td>\n",
       "      <td>0.0</td>\n",
       "      <td>43.046487</td>\n",
       "      <td>53.291650</td>\n",
       "      <td>10.677078</td>\n",
       "      <td>18.973666</td>\n",
       "      <td>1.0</td>\n",
       "      <td>0.000000</td>\n",
       "      <td>0.0</td>\n",
       "    </tr>\n",
       "    <tr>\n",
       "      <th>15</th>\n",
       "      <td>1.0</td>\n",
       "      <td>0.0</td>\n",
       "      <td>0.000000</td>\n",
       "      <td>0.0</td>\n",
       "      <td>0.0</td>\n",
       "      <td>70.356236</td>\n",
       "      <td>0.000000</td>\n",
       "      <td>11.180340</td>\n",
       "      <td>18.973666</td>\n",
       "      <td>1.0</td>\n",
       "      <td>1.414214</td>\n",
       "      <td>1.0</td>\n",
       "    </tr>\n",
       "    <tr>\n",
       "      <th>16</th>\n",
       "      <td>1.0</td>\n",
       "      <td>0.0</td>\n",
       "      <td>1.000000</td>\n",
       "      <td>1.0</td>\n",
       "      <td>0.0</td>\n",
       "      <td>59.966657</td>\n",
       "      <td>0.000000</td>\n",
       "      <td>10.000000</td>\n",
       "      <td>15.491933</td>\n",
       "      <td>1.0</td>\n",
       "      <td>1.414214</td>\n",
       "      <td>1.0</td>\n",
       "    </tr>\n",
       "  </tbody>\n",
       "</table>\n",
       "</div>"
      ],
      "text/plain": [
       "    Gender  Married  Dependents  Education  Self_Employed  ApplicantIncome  \\\n",
       "0      1.0      0.0    0.000000        0.0            0.0        76.478755   \n",
       "1      1.0      1.0    1.000000        0.0            0.0        67.697858   \n",
       "2      1.0      1.0    0.000000        0.0            1.0        54.772256   \n",
       "3      1.0      1.0    0.000000        1.0            0.0        50.823223   \n",
       "4      1.0      0.0    0.000000        0.0            0.0        77.459667   \n",
       "5      1.0      1.0    1.414214        0.0            1.0        73.600272   \n",
       "6      1.0      1.0    0.000000        1.0            0.0        48.301139   \n",
       "7      1.0      1.0    1.732051        0.0            0.0        55.099909   \n",
       "8      1.0      1.0    1.414214        0.0            0.0        63.292970   \n",
       "10     1.0      1.0    1.414214        0.0            0.0        56.568542   \n",
       "11     1.0      1.0    1.414214        0.0            0.0        50.000000   \n",
       "12     1.0      1.0    1.414214        0.0            0.0        55.434646   \n",
       "13     1.0      0.0    0.000000        0.0            0.0        43.046487   \n",
       "15     1.0      0.0    0.000000        0.0            0.0        70.356236   \n",
       "16     1.0      0.0    1.000000        1.0            0.0        59.966657   \n",
       "\n",
       "    CoapplicantIncome  LoanAmount  Loan_Amount_Term  Credit_History  \\\n",
       "0            0.000000   12.100089         18.973666             1.0   \n",
       "1           38.832976   11.313708         18.973666             1.0   \n",
       "2            0.000000    8.124038         18.973666             1.0   \n",
       "3           48.559242   10.954451         18.973666             1.0   \n",
       "4            0.000000   11.874342         18.973666             1.0   \n",
       "5           64.776539   16.340135         18.973666             1.0   \n",
       "6           38.935845    9.746794         18.973666             1.0   \n",
       "7           50.039984   12.569805         18.973666             0.0   \n",
       "8           39.064050   12.961481         18.973666             1.0   \n",
       "10          26.457513    8.366600         18.973666             1.0   \n",
       "11          42.895221   10.440307         18.973666             1.0   \n",
       "12          90.033327   14.142136         18.973666             1.0   \n",
       "13          53.291650   10.677078         18.973666             1.0   \n",
       "15           0.000000   11.180340         18.973666             1.0   \n",
       "16           0.000000   10.000000         15.491933             1.0   \n",
       "\n",
       "    Property_Area  Loan_Status  \n",
       "0        1.414214          1.0  \n",
       "1        0.000000          0.0  \n",
       "2        1.414214          1.0  \n",
       "3        1.414214          1.0  \n",
       "4        1.414214          1.0  \n",
       "5        1.414214          1.0  \n",
       "6        1.414214          1.0  \n",
       "7        1.000000          0.0  \n",
       "8        1.414214          1.0  \n",
       "10       1.414214          1.0  \n",
       "11       1.414214          1.0  \n",
       "12       1.414214          1.0  \n",
       "13       0.000000          0.0  \n",
       "15       1.414214          1.0  \n",
       "16       1.414214          1.0  "
      ]
     },
     "execution_count": 36,
     "metadata": {},
     "output_type": "execute_result"
    }
   ],
   "source": [
    "df1 = np.sqrt(df)\n",
    "\n",
    "df1.head(15)"
   ]
  },
  {
   "cell_type": "code",
   "execution_count": 37,
   "id": "59b8590f",
   "metadata": {},
   "outputs": [
    {
     "data": {
      "text/plain": [
       "Gender              -1.622920\n",
       "Married             -0.630211\n",
       "Dependents           0.610338\n",
       "Education            1.306588\n",
       "Self_Employed        2.252848\n",
       "ApplicantIncome      1.208613\n",
       "CoapplicantIncome    0.207591\n",
       "LoanAmount           0.320372\n",
       "Loan_Amount_Term    -2.456414\n",
       "Credit_History      -1.976043\n",
       "Property_Area       -0.598165\n",
       "Loan_Status         -0.822635\n",
       "dtype: float64"
      ]
     },
     "execution_count": 37,
     "metadata": {},
     "output_type": "execute_result"
    }
   ],
   "source": [
    "df1.skew()"
   ]
  },
  {
   "cell_type": "code",
   "execution_count": 38,
   "id": "7d7c17ef",
   "metadata": {},
   "outputs": [],
   "source": [
    "df=df1"
   ]
  },
  {
   "cell_type": "markdown",
   "id": "b76c3d34",
   "metadata": {},
   "source": [
    "# Feature Engineering"
   ]
  },
  {
   "cell_type": "code",
   "execution_count": 39,
   "id": "8734a1e3",
   "metadata": {},
   "outputs": [],
   "source": [
    "y = df['Loan_Status']\n",
    "x = df.drop('Loan_Status', axis = 1)"
   ]
  },
  {
   "cell_type": "code",
   "execution_count": 40,
   "id": "86a4ae4d",
   "metadata": {},
   "outputs": [],
   "source": [
    "from sklearn.model_selection import train_test_split\n",
    "from sklearn.linear_model import LogisticRegression\n",
    "from sklearn.metrics import classification_report"
   ]
  },
  {
   "cell_type": "code",
   "execution_count": 41,
   "id": "99633afd",
   "metadata": {},
   "outputs": [],
   "source": [
    "x_train, x_test, y_train, y_test = train_test_split(x,y,test_size=0.2,random_state=47)"
   ]
  },
  {
   "cell_type": "markdown",
   "id": "5ede0685",
   "metadata": {},
   "source": [
    "# Treating data imbalance"
   ]
  },
  {
   "cell_type": "code",
   "execution_count": 42,
   "id": "1ac196f0",
   "metadata": {},
   "outputs": [
    {
     "name": "stdout",
     "output_type": "stream",
     "text": [
      "1.0    398\n",
      "0.0    179\n",
      "Name: Loan_Status, dtype: int64\n"
     ]
    }
   ],
   "source": [
    "print(df['Loan_Status'].value_counts())"
   ]
  },
  {
   "cell_type": "code",
   "execution_count": 43,
   "id": "8ef4e69c",
   "metadata": {},
   "outputs": [
    {
     "data": {
      "text/plain": [
       "1.0    325\n",
       "0.0    325\n",
       "Name: Loan_Status, dtype: int64"
      ]
     },
     "execution_count": 43,
     "metadata": {},
     "output_type": "execute_result"
    }
   ],
   "source": [
    "from sklearn.utils import resample\n",
    "X=pd.concat([x_train,y_train],axis=1)\n",
    "label0=X[X.Loan_Status==0]\n",
    "label1=X[X.Loan_Status==1]\n",
    "label_unsampled=resample(label0,replace=True,n_samples=len(label1),random_state=27)\n",
    "unsampled=pd.concat([label1,label_unsampled])\n",
    "unsampled.Loan_Status.value_counts()"
   ]
  },
  {
   "cell_type": "code",
   "execution_count": 44,
   "id": "eb1e91e7",
   "metadata": {},
   "outputs": [],
   "source": [
    "x_train= unsampled.drop(columns='Loan_Status')\n",
    "y_train= unsampled['Loan_Status']"
   ]
  },
  {
   "cell_type": "markdown",
   "id": "f27b4758",
   "metadata": {},
   "source": [
    "# Scaling"
   ]
  },
  {
   "cell_type": "code",
   "execution_count": 45,
   "id": "82712d89",
   "metadata": {},
   "outputs": [],
   "source": [
    "# data normalization with sklearn\n",
    "from sklearn.preprocessing import MinMaxScaler\n",
    "\n",
    "# fit scaler on training data\n",
    "norm = MinMaxScaler().fit(x_train)\n",
    "\n",
    "# transform training data\n",
    "x_train_norm = norm.transform(x_train)\n",
    "\n",
    "# transform testing dataabs\n",
    "x_test_norm = norm.transform(x_test)"
   ]
  },
  {
   "cell_type": "code",
   "execution_count": 46,
   "id": "6b3693be",
   "metadata": {},
   "outputs": [],
   "source": [
    "x_test=pd.DataFrame(x_test_norm)\n",
    "x_train=pd.DataFrame(x_train_norm)"
   ]
  },
  {
   "cell_type": "code",
   "execution_count": 47,
   "id": "04722d9d",
   "metadata": {},
   "outputs": [
    {
     "data": {
      "text/html": [
       "<div>\n",
       "<style scoped>\n",
       "    .dataframe tbody tr th:only-of-type {\n",
       "        vertical-align: middle;\n",
       "    }\n",
       "\n",
       "    .dataframe tbody tr th {\n",
       "        vertical-align: top;\n",
       "    }\n",
       "\n",
       "    .dataframe thead th {\n",
       "        text-align: right;\n",
       "    }\n",
       "</style>\n",
       "<table border=\"1\" class=\"dataframe\">\n",
       "  <thead>\n",
       "    <tr style=\"text-align: right;\">\n",
       "      <th></th>\n",
       "      <th>0</th>\n",
       "      <th>1</th>\n",
       "      <th>2</th>\n",
       "      <th>3</th>\n",
       "      <th>4</th>\n",
       "      <th>5</th>\n",
       "      <th>6</th>\n",
       "      <th>7</th>\n",
       "      <th>8</th>\n",
       "      <th>9</th>\n",
       "      <th>10</th>\n",
       "    </tr>\n",
       "  </thead>\n",
       "  <tbody>\n",
       "    <tr>\n",
       "      <th>count</th>\n",
       "      <td>650.000000</td>\n",
       "      <td>650.000000</td>\n",
       "      <td>650.000000</td>\n",
       "      <td>650.000000</td>\n",
       "      <td>650.000000</td>\n",
       "      <td>650.000000</td>\n",
       "      <td>650.000000</td>\n",
       "      <td>650.000000</td>\n",
       "      <td>650.000000</td>\n",
       "      <td>650.000000</td>\n",
       "      <td>650.000000</td>\n",
       "    </tr>\n",
       "    <tr>\n",
       "      <th>mean</th>\n",
       "      <td>0.823077</td>\n",
       "      <td>0.667692</td>\n",
       "      <td>0.302322</td>\n",
       "      <td>0.243077</td>\n",
       "      <td>0.156923</td>\n",
       "      <td>0.435810</td>\n",
       "      <td>0.299996</td>\n",
       "      <td>0.520306</td>\n",
       "      <td>0.586315</td>\n",
       "      <td>0.744615</td>\n",
       "      <td>0.574900</td>\n",
       "    </tr>\n",
       "    <tr>\n",
       "      <th>std</th>\n",
       "      <td>0.381897</td>\n",
       "      <td>0.471403</td>\n",
       "      <td>0.377713</td>\n",
       "      <td>0.429272</td>\n",
       "      <td>0.364008</td>\n",
       "      <td>0.153077</td>\n",
       "      <td>0.281188</td>\n",
       "      <td>0.144931</td>\n",
       "      <td>0.208417</td>\n",
       "      <td>0.436413</td>\n",
       "      <td>0.416658</td>\n",
       "    </tr>\n",
       "    <tr>\n",
       "      <th>min</th>\n",
       "      <td>0.000000</td>\n",
       "      <td>0.000000</td>\n",
       "      <td>0.000000</td>\n",
       "      <td>0.000000</td>\n",
       "      <td>0.000000</td>\n",
       "      <td>0.000000</td>\n",
       "      <td>0.000000</td>\n",
       "      <td>0.000000</td>\n",
       "      <td>0.000000</td>\n",
       "      <td>0.000000</td>\n",
       "      <td>0.000000</td>\n",
       "    </tr>\n",
       "    <tr>\n",
       "      <th>25%</th>\n",
       "      <td>1.000000</td>\n",
       "      <td>0.000000</td>\n",
       "      <td>0.000000</td>\n",
       "      <td>0.000000</td>\n",
       "      <td>0.000000</td>\n",
       "      <td>0.330779</td>\n",
       "      <td>0.000000</td>\n",
       "      <td>0.439380</td>\n",
       "      <td>0.654373</td>\n",
       "      <td>0.000000</td>\n",
       "      <td>0.000000</td>\n",
       "    </tr>\n",
       "    <tr>\n",
       "      <th>50%</th>\n",
       "      <td>1.000000</td>\n",
       "      <td>1.000000</td>\n",
       "      <td>0.000000</td>\n",
       "      <td>0.000000</td>\n",
       "      <td>0.000000</td>\n",
       "      <td>0.399818</td>\n",
       "      <td>0.388146</td>\n",
       "      <td>0.513371</td>\n",
       "      <td>0.654373</td>\n",
       "      <td>1.000000</td>\n",
       "      <td>0.707107</td>\n",
       "    </tr>\n",
       "    <tr>\n",
       "      <th>75%</th>\n",
       "      <td>1.000000</td>\n",
       "      <td>1.000000</td>\n",
       "      <td>0.577350</td>\n",
       "      <td>0.000000</td>\n",
       "      <td>0.000000</td>\n",
       "      <td>0.516261</td>\n",
       "      <td>0.518397</td>\n",
       "      <td>0.595135</td>\n",
       "      <td>0.654373</td>\n",
       "      <td>1.000000</td>\n",
       "      <td>1.000000</td>\n",
       "    </tr>\n",
       "    <tr>\n",
       "      <th>max</th>\n",
       "      <td>1.000000</td>\n",
       "      <td>1.000000</td>\n",
       "      <td>1.000000</td>\n",
       "      <td>1.000000</td>\n",
       "      <td>1.000000</td>\n",
       "      <td>1.000000</td>\n",
       "      <td>1.000000</td>\n",
       "      <td>1.000000</td>\n",
       "      <td>1.000000</td>\n",
       "      <td>1.000000</td>\n",
       "      <td>1.000000</td>\n",
       "    </tr>\n",
       "  </tbody>\n",
       "</table>\n",
       "</div>"
      ],
      "text/plain": [
       "               0           1           2           3           4           5   \\\n",
       "count  650.000000  650.000000  650.000000  650.000000  650.000000  650.000000   \n",
       "mean     0.823077    0.667692    0.302322    0.243077    0.156923    0.435810   \n",
       "std      0.381897    0.471403    0.377713    0.429272    0.364008    0.153077   \n",
       "min      0.000000    0.000000    0.000000    0.000000    0.000000    0.000000   \n",
       "25%      1.000000    0.000000    0.000000    0.000000    0.000000    0.330779   \n",
       "50%      1.000000    1.000000    0.000000    0.000000    0.000000    0.399818   \n",
       "75%      1.000000    1.000000    0.577350    0.000000    0.000000    0.516261   \n",
       "max      1.000000    1.000000    1.000000    1.000000    1.000000    1.000000   \n",
       "\n",
       "               6           7           8           9           10  \n",
       "count  650.000000  650.000000  650.000000  650.000000  650.000000  \n",
       "mean     0.299996    0.520306    0.586315    0.744615    0.574900  \n",
       "std      0.281188    0.144931    0.208417    0.436413    0.416658  \n",
       "min      0.000000    0.000000    0.000000    0.000000    0.000000  \n",
       "25%      0.000000    0.439380    0.654373    0.000000    0.000000  \n",
       "50%      0.388146    0.513371    0.654373    1.000000    0.707107  \n",
       "75%      0.518397    0.595135    0.654373    1.000000    1.000000  \n",
       "max      1.000000    1.000000    1.000000    1.000000    1.000000  "
      ]
     },
     "execution_count": 47,
     "metadata": {},
     "output_type": "execute_result"
    }
   ],
   "source": [
    "x_train.describe()"
   ]
  },
  {
   "cell_type": "markdown",
   "id": "b9d22124",
   "metadata": {},
   "source": [
    "# Model Construction"
   ]
  },
  {
   "cell_type": "code",
   "execution_count": 48,
   "id": "e957290c",
   "metadata": {},
   "outputs": [],
   "source": [
    "from sklearn.model_selection import train_test_split\n",
    "from sklearn.metrics import classification_report, confusion_matrix\n",
    "from sklearn.ensemble import RandomForestClassifier\n",
    "from sklearn.metrics import accuracy_score,confusion_matrix,classification_report"
   ]
  },
  {
   "cell_type": "markdown",
   "id": "6a8efdfe",
   "metadata": {},
   "source": [
    "# SVC"
   ]
  },
  {
   "cell_type": "code",
   "execution_count": 49,
   "id": "6e46a696",
   "metadata": {},
   "outputs": [
    {
     "name": "stdout",
     "output_type": "stream",
     "text": [
      "0.7758620689655172\n",
      "[[20 23]\n",
      " [ 3 70]]\n",
      "              precision    recall  f1-score   support\n",
      "\n",
      "         0.0       0.87      0.47      0.61        43\n",
      "         1.0       0.75      0.96      0.84        73\n",
      "\n",
      "    accuracy                           0.78       116\n",
      "   macro avg       0.81      0.71      0.72       116\n",
      "weighted avg       0.80      0.78      0.76       116\n",
      "\n"
     ]
    }
   ],
   "source": [
    "from sklearn.svm import SVC\n",
    "from sklearn.model_selection import cross_val_score\n",
    "from sklearn import svm\n",
    "from sklearn.svm import LinearSVC\n",
    "svc=SVC()\n",
    "svc.fit(x_train,y_train)\n",
    "svc.score(x_train,y_train)\n",
    "predsvc=svc.predict(x_test)\n",
    "svc_acc=accuracy_score(y_test,predsvc)\n",
    "print(svc_acc)\n",
    "print(confusion_matrix(y_test,predsvc))\n",
    "print(classification_report(y_test,predsvc))"
   ]
  },
  {
   "cell_type": "code",
   "execution_count": 50,
   "id": "d2f9aebe",
   "metadata": {},
   "outputs": [
    {
     "data": {
      "text/plain": [
       "0.6897761645493043"
      ]
     },
     "execution_count": 50,
     "metadata": {},
     "output_type": "execute_result"
    }
   ],
   "source": [
    "svc_cv=cross_val_score(svc,x,y,scoring='accuracy', cv = 10).mean()\n",
    "svc_cv"
   ]
  },
  {
   "cell_type": "markdown",
   "id": "8740778c",
   "metadata": {},
   "source": [
    "# RandomForestClassifier"
   ]
  },
  {
   "cell_type": "code",
   "execution_count": 51,
   "id": "c68881d0",
   "metadata": {},
   "outputs": [
    {
     "name": "stdout",
     "output_type": "stream",
     "text": [
      "              precision    recall  f1-score   support\n",
      "\n",
      "         0.0       0.82      0.53      0.65        43\n",
      "         1.0       0.77      0.93      0.84        73\n",
      "\n",
      "    accuracy                           0.78       116\n",
      "   macro avg       0.80      0.73      0.75       116\n",
      "weighted avg       0.79      0.78      0.77       116\n",
      "\n"
     ]
    }
   ],
   "source": [
    "clf= RandomForestClassifier().fit(x_train, y_train)\n",
    "predRFC= clf.predict(x_test)\n",
    "randomforest_accu=accuracy_score(y_test,predRFC)\n",
    "randomforest_accu\n",
    "#print(confusion_matrix(y_test, predRFC))\n",
    "print(classification_report(y_test, predRFC))"
   ]
  },
  {
   "cell_type": "code",
   "execution_count": 52,
   "id": "1c7f7995",
   "metadata": {},
   "outputs": [
    {
     "data": {
      "text/plain": [
       "0.7844827586206896"
      ]
     },
     "execution_count": 52,
     "metadata": {},
     "output_type": "execute_result"
    }
   ],
   "source": [
    "randomforest_accu"
   ]
  },
  {
   "cell_type": "code",
   "execution_count": 53,
   "id": "e5c08bcb",
   "metadata": {},
   "outputs": [
    {
     "data": {
      "text/plain": [
       "0.9123076923076925"
      ]
     },
     "execution_count": 53,
     "metadata": {},
     "output_type": "execute_result"
    }
   ],
   "source": [
    "from sklearn.model_selection import cross_val_score\n",
    "randomforest_cv= cross_val_score(clf,x_train,y_train,scoring='accuracy', cv = 5).mean()\n",
    "randomforest_cv"
   ]
  },
  {
   "cell_type": "markdown",
   "id": "d95e9b50",
   "metadata": {},
   "source": [
    "# GaussianNB"
   ]
  },
  {
   "cell_type": "code",
   "execution_count": 54,
   "id": "b825bc33",
   "metadata": {},
   "outputs": [
    {
     "name": "stdout",
     "output_type": "stream",
     "text": [
      "0.7931034482758621\n"
     ]
    },
    {
     "data": {
      "text/html": [
       "<div>\n",
       "<style scoped>\n",
       "    .dataframe tbody tr th:only-of-type {\n",
       "        vertical-align: middle;\n",
       "    }\n",
       "\n",
       "    .dataframe tbody tr th {\n",
       "        vertical-align: top;\n",
       "    }\n",
       "\n",
       "    .dataframe thead th {\n",
       "        text-align: right;\n",
       "    }\n",
       "</style>\n",
       "<table border=\"1\" class=\"dataframe\">\n",
       "  <thead>\n",
       "    <tr style=\"text-align: right;\">\n",
       "      <th></th>\n",
       "      <th>precision</th>\n",
       "      <th>recall</th>\n",
       "      <th>f1-score</th>\n",
       "      <th>support</th>\n",
       "    </tr>\n",
       "  </thead>\n",
       "  <tbody>\n",
       "    <tr>\n",
       "      <th>0.0</th>\n",
       "      <td>0.913043</td>\n",
       "      <td>0.488372</td>\n",
       "      <td>0.636364</td>\n",
       "      <td>43.000000</td>\n",
       "    </tr>\n",
       "    <tr>\n",
       "      <th>1.0</th>\n",
       "      <td>0.763441</td>\n",
       "      <td>0.972603</td>\n",
       "      <td>0.855422</td>\n",
       "      <td>73.000000</td>\n",
       "    </tr>\n",
       "    <tr>\n",
       "      <th>accuracy</th>\n",
       "      <td>0.793103</td>\n",
       "      <td>0.793103</td>\n",
       "      <td>0.793103</td>\n",
       "      <td>0.793103</td>\n",
       "    </tr>\n",
       "    <tr>\n",
       "      <th>macro avg</th>\n",
       "      <td>0.838242</td>\n",
       "      <td>0.730487</td>\n",
       "      <td>0.745893</td>\n",
       "      <td>116.000000</td>\n",
       "    </tr>\n",
       "    <tr>\n",
       "      <th>weighted avg</th>\n",
       "      <td>0.818897</td>\n",
       "      <td>0.793103</td>\n",
       "      <td>0.774219</td>\n",
       "      <td>116.000000</td>\n",
       "    </tr>\n",
       "  </tbody>\n",
       "</table>\n",
       "</div>"
      ],
      "text/plain": [
       "              precision    recall  f1-score     support\n",
       "0.0            0.913043  0.488372  0.636364   43.000000\n",
       "1.0            0.763441  0.972603  0.855422   73.000000\n",
       "accuracy       0.793103  0.793103  0.793103    0.793103\n",
       "macro avg      0.838242  0.730487  0.745893  116.000000\n",
       "weighted avg   0.818897  0.793103  0.774219  116.000000"
      ]
     },
     "execution_count": 54,
     "metadata": {},
     "output_type": "execute_result"
    }
   ],
   "source": [
    "from sklearn.naive_bayes import GaussianNB\n",
    "GNB = GaussianNB()\n",
    "\n",
    "GNB.fit(x_train,y_train)\n",
    "\n",
    "predGNB = GNB.predict(x_test)\n",
    "\n",
    "reportGNB = classification_report(y_test, predGNB, output_dict = True)\n",
    "  \n",
    "crGNB = pd.DataFrame(reportGNB).transpose()\n",
    "gnb_acc=accuracy_score(y_test,predGNB)\n",
    "print(gnb_acc)\n",
    "crGNB"
   ]
  },
  {
   "cell_type": "code",
   "execution_count": 55,
   "id": "558b5593",
   "metadata": {},
   "outputs": [
    {
     "data": {
      "text/plain": [
       "0.814670296430732"
      ]
     },
     "execution_count": 55,
     "metadata": {},
     "output_type": "execute_result"
    }
   ],
   "source": [
    "gnb_cv=cross_val_score(GNB,x,y,scoring='accuracy', cv = 10).mean()\n",
    "gnb_cv"
   ]
  },
  {
   "cell_type": "markdown",
   "id": "30f8bf3c",
   "metadata": {},
   "source": [
    "# KNeighbors Classifier"
   ]
  },
  {
   "cell_type": "code",
   "execution_count": 56,
   "id": "d68d211d",
   "metadata": {},
   "outputs": [
    {
     "name": "stdout",
     "output_type": "stream",
     "text": [
      "0.7327586206896551\n"
     ]
    },
    {
     "data": {
      "text/html": [
       "<div>\n",
       "<style scoped>\n",
       "    .dataframe tbody tr th:only-of-type {\n",
       "        vertical-align: middle;\n",
       "    }\n",
       "\n",
       "    .dataframe tbody tr th {\n",
       "        vertical-align: top;\n",
       "    }\n",
       "\n",
       "    .dataframe thead th {\n",
       "        text-align: right;\n",
       "    }\n",
       "</style>\n",
       "<table border=\"1\" class=\"dataframe\">\n",
       "  <thead>\n",
       "    <tr style=\"text-align: right;\">\n",
       "      <th></th>\n",
       "      <th>precision</th>\n",
       "      <th>recall</th>\n",
       "      <th>f1-score</th>\n",
       "      <th>support</th>\n",
       "    </tr>\n",
       "  </thead>\n",
       "  <tbody>\n",
       "    <tr>\n",
       "      <th>0.0</th>\n",
       "      <td>0.642857</td>\n",
       "      <td>0.627907</td>\n",
       "      <td>0.635294</td>\n",
       "      <td>43.000000</td>\n",
       "    </tr>\n",
       "    <tr>\n",
       "      <th>1.0</th>\n",
       "      <td>0.783784</td>\n",
       "      <td>0.794521</td>\n",
       "      <td>0.789116</td>\n",
       "      <td>73.000000</td>\n",
       "    </tr>\n",
       "    <tr>\n",
       "      <th>accuracy</th>\n",
       "      <td>0.732759</td>\n",
       "      <td>0.732759</td>\n",
       "      <td>0.732759</td>\n",
       "      <td>0.732759</td>\n",
       "    </tr>\n",
       "    <tr>\n",
       "      <th>macro avg</th>\n",
       "      <td>0.713320</td>\n",
       "      <td>0.711214</td>\n",
       "      <td>0.712205</td>\n",
       "      <td>116.000000</td>\n",
       "    </tr>\n",
       "    <tr>\n",
       "      <th>weighted avg</th>\n",
       "      <td>0.731544</td>\n",
       "      <td>0.732759</td>\n",
       "      <td>0.732096</td>\n",
       "      <td>116.000000</td>\n",
       "    </tr>\n",
       "  </tbody>\n",
       "</table>\n",
       "</div>"
      ],
      "text/plain": [
       "              precision    recall  f1-score     support\n",
       "0.0            0.642857  0.627907  0.635294   43.000000\n",
       "1.0            0.783784  0.794521  0.789116   73.000000\n",
       "accuracy       0.732759  0.732759  0.732759    0.732759\n",
       "macro avg      0.713320  0.711214  0.712205  116.000000\n",
       "weighted avg   0.731544  0.732759  0.732096  116.000000"
      ]
     },
     "execution_count": 56,
     "metadata": {},
     "output_type": "execute_result"
    }
   ],
   "source": [
    "from sklearn.neighbors import KNeighborsClassifier\n",
    "KNN = KNeighborsClassifier()\n",
    "\n",
    "KNN.fit(x_train,y_train)\n",
    "\n",
    "predKNN = KNN.predict(x_test)\n",
    "\n",
    "reportKNN = classification_report(y_test,predKNN, output_dict = True)\n",
    "\n",
    "crKNN = pd.DataFrame(reportKNN).transpose()\n",
    "knn_acc=accuracy_score(y_test,predKNN)\n",
    "print(knn_acc)\n",
    "crKNN"
   ]
  },
  {
   "cell_type": "code",
   "execution_count": 57,
   "id": "eadb5729",
   "metadata": {},
   "outputs": [
    {
     "data": {
      "text/plain": [
       "0.6516938898971567"
      ]
     },
     "execution_count": 57,
     "metadata": {},
     "output_type": "execute_result"
    }
   ],
   "source": [
    "knn_cv=cross_val_score(KNN,x,y,scoring='accuracy', cv = 10).mean()\n",
    "knn_cv"
   ]
  },
  {
   "cell_type": "markdown",
   "id": "55151eb6",
   "metadata": {},
   "source": [
    "# DecisionTreeClassifier"
   ]
  },
  {
   "cell_type": "code",
   "execution_count": 58,
   "id": "f688801c",
   "metadata": {},
   "outputs": [
    {
     "name": "stdout",
     "output_type": "stream",
     "text": [
      "0.7241379310344828\n"
     ]
    },
    {
     "data": {
      "text/html": [
       "<div>\n",
       "<style scoped>\n",
       "    .dataframe tbody tr th:only-of-type {\n",
       "        vertical-align: middle;\n",
       "    }\n",
       "\n",
       "    .dataframe tbody tr th {\n",
       "        vertical-align: top;\n",
       "    }\n",
       "\n",
       "    .dataframe thead th {\n",
       "        text-align: right;\n",
       "    }\n",
       "</style>\n",
       "<table border=\"1\" class=\"dataframe\">\n",
       "  <thead>\n",
       "    <tr style=\"text-align: right;\">\n",
       "      <th></th>\n",
       "      <th>precision</th>\n",
       "      <th>recall</th>\n",
       "      <th>f1-score</th>\n",
       "      <th>support</th>\n",
       "    </tr>\n",
       "  </thead>\n",
       "  <tbody>\n",
       "    <tr>\n",
       "      <th>0.0</th>\n",
       "      <td>0.641026</td>\n",
       "      <td>0.581395</td>\n",
       "      <td>0.609756</td>\n",
       "      <td>43.000000</td>\n",
       "    </tr>\n",
       "    <tr>\n",
       "      <th>1.0</th>\n",
       "      <td>0.766234</td>\n",
       "      <td>0.808219</td>\n",
       "      <td>0.786667</td>\n",
       "      <td>73.000000</td>\n",
       "    </tr>\n",
       "    <tr>\n",
       "      <th>accuracy</th>\n",
       "      <td>0.724138</td>\n",
       "      <td>0.724138</td>\n",
       "      <td>0.724138</td>\n",
       "      <td>0.724138</td>\n",
       "    </tr>\n",
       "    <tr>\n",
       "      <th>macro avg</th>\n",
       "      <td>0.703630</td>\n",
       "      <td>0.694807</td>\n",
       "      <td>0.698211</td>\n",
       "      <td>116.000000</td>\n",
       "    </tr>\n",
       "    <tr>\n",
       "      <th>weighted avg</th>\n",
       "      <td>0.719820</td>\n",
       "      <td>0.724138</td>\n",
       "      <td>0.721088</td>\n",
       "      <td>116.000000</td>\n",
       "    </tr>\n",
       "  </tbody>\n",
       "</table>\n",
       "</div>"
      ],
      "text/plain": [
       "              precision    recall  f1-score     support\n",
       "0.0            0.641026  0.581395  0.609756   43.000000\n",
       "1.0            0.766234  0.808219  0.786667   73.000000\n",
       "accuracy       0.724138  0.724138  0.724138    0.724138\n",
       "macro avg      0.703630  0.694807  0.698211  116.000000\n",
       "weighted avg   0.719820  0.724138  0.721088  116.000000"
      ]
     },
     "execution_count": 58,
     "metadata": {},
     "output_type": "execute_result"
    }
   ],
   "source": [
    "from sklearn.tree import DecisionTreeClassifier\n",
    "DTC = DecisionTreeClassifier()\n",
    "\n",
    "DTC.fit(x_train,y_train)\n",
    "\n",
    "predDTC = DTC.predict(x_test)\n",
    "\n",
    "reportDTC = classification_report(y_test,predDTC, output_dict = True)\n",
    "\n",
    "crDTC = pd.DataFrame(reportDTC).transpose()\n",
    "dtc_acc=accuracy_score(y_test,predDTC)\n",
    "print(dtc_acc)\n",
    "crDTC"
   ]
  },
  {
   "cell_type": "code",
   "execution_count": 59,
   "id": "40fb3d33",
   "metadata": {},
   "outputs": [
    {
     "data": {
      "text/plain": [
       "0.7400932400932401"
      ]
     },
     "execution_count": 59,
     "metadata": {},
     "output_type": "execute_result"
    }
   ],
   "source": [
    "from sklearn.model_selection import cross_val_score\n",
    "dtc_cv=cross_val_score(DTC,x,y,scoring='accuracy', cv =13).mean()\n",
    "dtc_cv"
   ]
  },
  {
   "cell_type": "markdown",
   "id": "6a9b0ba3",
   "metadata": {},
   "source": [
    "# LogisticRegression"
   ]
  },
  {
   "cell_type": "code",
   "execution_count": 60,
   "id": "6efc7c8b",
   "metadata": {},
   "outputs": [
    {
     "name": "stdout",
     "output_type": "stream",
     "text": [
      "0.7844827586206896\n",
      "[[22 21]\n",
      " [ 4 69]]\n"
     ]
    },
    {
     "data": {
      "text/html": [
       "<div>\n",
       "<style scoped>\n",
       "    .dataframe tbody tr th:only-of-type {\n",
       "        vertical-align: middle;\n",
       "    }\n",
       "\n",
       "    .dataframe tbody tr th {\n",
       "        vertical-align: top;\n",
       "    }\n",
       "\n",
       "    .dataframe thead th {\n",
       "        text-align: right;\n",
       "    }\n",
       "</style>\n",
       "<table border=\"1\" class=\"dataframe\">\n",
       "  <thead>\n",
       "    <tr style=\"text-align: right;\">\n",
       "      <th></th>\n",
       "      <th>precision</th>\n",
       "      <th>recall</th>\n",
       "      <th>f1-score</th>\n",
       "      <th>support</th>\n",
       "    </tr>\n",
       "  </thead>\n",
       "  <tbody>\n",
       "    <tr>\n",
       "      <th>0.0</th>\n",
       "      <td>0.846154</td>\n",
       "      <td>0.511628</td>\n",
       "      <td>0.637681</td>\n",
       "      <td>43.000000</td>\n",
       "    </tr>\n",
       "    <tr>\n",
       "      <th>1.0</th>\n",
       "      <td>0.766667</td>\n",
       "      <td>0.945205</td>\n",
       "      <td>0.846626</td>\n",
       "      <td>73.000000</td>\n",
       "    </tr>\n",
       "    <tr>\n",
       "      <th>accuracy</th>\n",
       "      <td>0.784483</td>\n",
       "      <td>0.784483</td>\n",
       "      <td>0.784483</td>\n",
       "      <td>0.784483</td>\n",
       "    </tr>\n",
       "    <tr>\n",
       "      <th>macro avg</th>\n",
       "      <td>0.806410</td>\n",
       "      <td>0.728417</td>\n",
       "      <td>0.742153</td>\n",
       "      <td>116.000000</td>\n",
       "    </tr>\n",
       "    <tr>\n",
       "      <th>weighted avg</th>\n",
       "      <td>0.796132</td>\n",
       "      <td>0.784483</td>\n",
       "      <td>0.769172</td>\n",
       "      <td>116.000000</td>\n",
       "    </tr>\n",
       "  </tbody>\n",
       "</table>\n",
       "</div>"
      ],
      "text/plain": [
       "              precision    recall  f1-score     support\n",
       "0.0            0.846154  0.511628  0.637681   43.000000\n",
       "1.0            0.766667  0.945205  0.846626   73.000000\n",
       "accuracy       0.784483  0.784483  0.784483    0.784483\n",
       "macro avg      0.806410  0.728417  0.742153  116.000000\n",
       "weighted avg   0.796132  0.784483  0.769172  116.000000"
      ]
     },
     "execution_count": 60,
     "metadata": {},
     "output_type": "execute_result"
    }
   ],
   "source": [
    "from sklearn.linear_model import LogisticRegression\n",
    "\n",
    "LReg = LogisticRegression(solver='lbfgs', max_iter=400,random_state=42)\n",
    "\n",
    "LReg.fit(x_train,y_train)\n",
    "\n",
    "predLReg = LReg.predict(x_test)\n",
    "\n",
    "reportLReg = classification_report(y_test, predLReg, output_dict = True)\n",
    "\n",
    "crLReg = pd.DataFrame(reportLReg).transpose()\n",
    "logisticregression_acc=accuracy_score(y_test,predLReg)\n",
    "print(logisticregression_acc)\n",
    "print(confusion_matrix(y_test, predLReg))\n",
    "crLReg"
   ]
  },
  {
   "cell_type": "code",
   "execution_count": 61,
   "id": "8723b15a",
   "metadata": {},
   "outputs": [
    {
     "data": {
      "text/plain": [
       "0.8145689407023604"
      ]
     },
     "execution_count": 61,
     "metadata": {},
     "output_type": "execute_result"
    }
   ],
   "source": [
    "logisticregression_cv= cross_val_score(LReg,x,y,scoring='accuracy', cv = 3).mean()\n",
    "logisticregression_cv"
   ]
  },
  {
   "cell_type": "code",
   "execution_count": 62,
   "id": "cad0d7c7",
   "metadata": {},
   "outputs": [
    {
     "name": "stdout",
     "output_type": "stream",
     "text": [
      "model                     accuracy            cv           difference\n",
      "-------------------------------------------------------------------------------------\n",
      "random forest             0.78              0.91                 -0.13\n",
      "logisticregression        0.78              0.81                 -0.03\n",
      "SVC                       0.78              0.69                 0.09\n",
      "gaussian naive bayes      0.79             0.81                 -0.02\n",
      "decission tree classifier 0.72              0.74                 -0.02\n",
      "KNN                       0.73              0.65                 0.08\n"
     ]
    }
   ],
   "source": [
    "print(\"model                    \",\"accuracy           \",\"cv          \",\"difference\")\n",
    "print(\"-------------------------------------------------------------------------------------\")\n",
    "print(\"random forest            \", round(randomforest_accu,2),\"            \",round(randomforest_cv,2 ),\"               \",round(randomforest_accu-randomforest_cv,2 ))\n",
    "print(\"logisticregression       \",round(logisticregression_acc,2),\"            \",round(logisticregression_cv,2),\"               \",round(logisticregression_acc-logisticregression_cv,2 ))\n",
    "print(\"SVC                      \",round(svc_acc,2),\"            \",round(svc_cv,2),\"               \",round(svc_acc-svc_cv,2 ))\n",
    "print(\"gaussian naive bayes     \",round(gnb_acc,2),\"           \",round(gnb_cv,2),\"               \",round(gnb_acc-gnb_cv,2 ))\n",
    "print(\"decission tree classifier\",round(dtc_acc,2),\"            \",round(dtc_cv,2),\"               \",round(dtc_acc-dtc_cv,2 ))\n",
    "print(\"KNN                      \",round(knn_acc,2),\"            \",round(knn_cv,2),\"               \",round(knn_acc-knn_cv,2 ))"
   ]
  },
  {
   "cell_type": "markdown",
   "id": "e1fb293d",
   "metadata": {},
   "source": [
    "The best model for this problem is gaussian naive bayes which gives least diff btween accuracy score and cv score."
   ]
  },
  {
   "cell_type": "markdown",
   "id": "fe96be7f",
   "metadata": {},
   "source": [
    "# Hyper parameter Tuning"
   ]
  },
  {
   "cell_type": "markdown",
   "id": "44e85b44",
   "metadata": {},
   "source": [
    "finding best random state"
   ]
  },
  {
   "cell_type": "code",
   "execution_count": 63,
   "id": "eb54806b",
   "metadata": {},
   "outputs": [
    {
     "name": "stdout",
     "output_type": "stream",
     "text": [
      "0 1.3519813519813517\n",
      "least value 0 1.3519813519813517\n",
      "1 1.4399415845198975\n",
      "2 1.5263157894736843\n",
      "3 1.4097222222222217\n",
      "4 1.0823680823680821\n",
      "least value 4 1.0823680823680821\n",
      "5 1.2914979757085023\n",
      "6 1.3999167707032871\n",
      "7 0.8957528957528956\n",
      "least value 7 0.8957528957528956\n",
      "8 0.9430894308943089\n",
      "9 1.539454806312769\n",
      "10 1.4087286527514227\n",
      "11 1.244949494949495\n",
      "12 1.20682480233042\n",
      "13 1.5305555555555552\n",
      "14 1.421568627450981\n",
      "15 1.2514880952380953\n",
      "16 1.4042688754380377\n",
      "17 1.5848197343453505\n",
      "18 1.2689832689832687\n",
      "19 1.2747252747252749\n",
      "20 1.4902777777777771\n",
      "21 1.5548500881834213\n",
      "22 1.391181657848324\n",
      "23 1.358048780487805\n",
      "24 1.539454806312769\n",
      "25 1.576086956521739\n",
      "26 1.2360972360972362\n",
      "27 1.4089068825910935\n",
      "28 1.2275132275132272\n",
      "29 1.073080481036078\n",
      "30 1.3291666666666664\n",
      "31 1.2747252747252746\n",
      "32 1.4089068825910933\n",
      "33 1.471264367816092\n",
      "34 1.3149509803921573\n",
      "35 1.4499999999999993\n",
      "36 1.409722222222222\n",
      "37 1.6610056610056607\n",
      "38 1.270536692223439\n",
      "39 0.9820105820105819\n",
      "40 1.3128879152975534\n",
      "41 1.6288425047438326\n",
      "42 1.364705882352941\n",
      "43 1.3377976190476193\n",
      "44 1.5407969639468688\n",
      "45 1.2973684210526317\n",
      "46 1.3730272596843616\n",
      "47 1.0347244345332907\n",
      "48 1.4499999999999995\n",
      "49 1.3736842105263158\n",
      "50 0.9666666666666662\n",
      "51 1.6516976998904707\n",
      "52 1.2482065997130558\n",
      "53 1.411842105263158\n",
      "54 1.2592105263157896\n",
      "55 1.4320987654320982\n",
      "56 1.5172413793103448\n",
      "57 1.1196911196911197\n",
      "58 1.1865961199294528\n",
      "59 1.2281854691493244\n",
      "60 1.4399415845198975\n",
      "61 1.3694444444444438\n",
      "62 1.4730158730158724\n",
      "63 1.5080396852548754\n",
      "64 1.291497975708502\n",
      "65 1.440993788819876\n",
      "66 1.8883720930232555\n",
      "67 1.411842105263158\n",
      "68 1.7471264367816093\n",
      "69 1.5080396852548754\n",
      "70 1.2689832689832687\n",
      "71 0.927072927072927\n",
      "72 1.208333333333333\n",
      "73 1.2316602316602314\n",
      "74 1.2707355242566511\n",
      "75 1.6093464768163561\n",
      "76 1.2968944099378885\n",
      "77 1.169430894308943\n",
      "78 1.482292807594012\n",
      "79 1.3937984496124027\n",
      "80 1.3697705802968962\n",
      "81 1.5305555555555552\n",
      "82 1.2589147286821702\n",
      "83 1.206599713055954\n",
      "84 1.6477272727272723\n",
      "85 1.3697705802968965\n",
      "86 1.0684210526315792\n",
      "87 1.3809523809523807\n",
      "88 1.411842105263158\n",
      "89 1.5305555555555552\n",
      "90 1.1680555555555552\n",
      "91 1.224025974025974\n",
      "92 1.5263157894736843\n",
      "93 1.291497975708502\n",
      "94 1.9310344827586208\n",
      "95 1.3038759689922477\n",
      "96 1.4978479196556673\n",
      "97 1.364705882352941\n",
      "98 1.169430894308943\n",
      "99 1.2275132275132272\n"
     ]
    }
   ],
   "source": [
    "#FINDING BEST RANDOM STATE\n",
    "\n",
    "from sklearn.metrics import r2_score\n",
    "d=5\n",
    "for i in range(0,100):\n",
    "  x_train, x_test, y_train, y_test = train_test_split(x,y,test_size=0.2,random_state=i)\n",
    "  DTC.fit(x_train,y_train)\n",
    "  pred_train=DTC.predict(x_train)\n",
    "  pred_test = DTC.predict(x_test)\n",
    "  a=r2_score(y_train,pred_train)\n",
    "  b=r2_score(y_test,pred_test)\n",
    "  c=a-b\n",
    "  print(i,c)\n",
    "  if d>=c:\n",
    "    d=c\n",
    "    print(\"least value\",i,d)"
   ]
  },
  {
   "cell_type": "code",
   "execution_count": 64,
   "id": "58587bb5",
   "metadata": {},
   "outputs": [],
   "source": [
    "x_train, x_test, y_train, y_test = train_test_split(x,y,test_size=0.2,random_state=39)"
   ]
  },
  {
   "cell_type": "code",
   "execution_count": 65,
   "id": "9e8d4f1d",
   "metadata": {},
   "outputs": [
    {
     "name": "stdout",
     "output_type": "stream",
     "text": [
      "Fitting 5 folds for each of 100 candidates, totalling 500 fits\n"
     ]
    },
    {
     "data": {
      "text/html": [
       "<style>#sk-container-id-1 {color: black;background-color: white;}#sk-container-id-1 pre{padding: 0;}#sk-container-id-1 div.sk-toggleable {background-color: white;}#sk-container-id-1 label.sk-toggleable__label {cursor: pointer;display: block;width: 100%;margin-bottom: 0;padding: 0.3em;box-sizing: border-box;text-align: center;}#sk-container-id-1 label.sk-toggleable__label-arrow:before {content: \"▸\";float: left;margin-right: 0.25em;color: #696969;}#sk-container-id-1 label.sk-toggleable__label-arrow:hover:before {color: black;}#sk-container-id-1 div.sk-estimator:hover label.sk-toggleable__label-arrow:before {color: black;}#sk-container-id-1 div.sk-toggleable__content {max-height: 0;max-width: 0;overflow: hidden;text-align: left;background-color: #f0f8ff;}#sk-container-id-1 div.sk-toggleable__content pre {margin: 0.2em;color: black;border-radius: 0.25em;background-color: #f0f8ff;}#sk-container-id-1 input.sk-toggleable__control:checked~div.sk-toggleable__content {max-height: 200px;max-width: 100%;overflow: auto;}#sk-container-id-1 input.sk-toggleable__control:checked~label.sk-toggleable__label-arrow:before {content: \"▾\";}#sk-container-id-1 div.sk-estimator input.sk-toggleable__control:checked~label.sk-toggleable__label {background-color: #d4ebff;}#sk-container-id-1 div.sk-label input.sk-toggleable__control:checked~label.sk-toggleable__label {background-color: #d4ebff;}#sk-container-id-1 input.sk-hidden--visually {border: 0;clip: rect(1px 1px 1px 1px);clip: rect(1px, 1px, 1px, 1px);height: 1px;margin: -1px;overflow: hidden;padding: 0;position: absolute;width: 1px;}#sk-container-id-1 div.sk-estimator {font-family: monospace;background-color: #f0f8ff;border: 1px dotted black;border-radius: 0.25em;box-sizing: border-box;margin-bottom: 0.5em;}#sk-container-id-1 div.sk-estimator:hover {background-color: #d4ebff;}#sk-container-id-1 div.sk-parallel-item::after {content: \"\";width: 100%;border-bottom: 1px solid gray;flex-grow: 1;}#sk-container-id-1 div.sk-label:hover label.sk-toggleable__label {background-color: #d4ebff;}#sk-container-id-1 div.sk-serial::before {content: \"\";position: absolute;border-left: 1px solid gray;box-sizing: border-box;top: 0;bottom: 0;left: 50%;z-index: 0;}#sk-container-id-1 div.sk-serial {display: flex;flex-direction: column;align-items: center;background-color: white;padding-right: 0.2em;padding-left: 0.2em;position: relative;}#sk-container-id-1 div.sk-item {position: relative;z-index: 1;}#sk-container-id-1 div.sk-parallel {display: flex;align-items: stretch;justify-content: center;background-color: white;position: relative;}#sk-container-id-1 div.sk-item::before, #sk-container-id-1 div.sk-parallel-item::before {content: \"\";position: absolute;border-left: 1px solid gray;box-sizing: border-box;top: 0;bottom: 0;left: 50%;z-index: -1;}#sk-container-id-1 div.sk-parallel-item {display: flex;flex-direction: column;z-index: 1;position: relative;background-color: white;}#sk-container-id-1 div.sk-parallel-item:first-child::after {align-self: flex-end;width: 50%;}#sk-container-id-1 div.sk-parallel-item:last-child::after {align-self: flex-start;width: 50%;}#sk-container-id-1 div.sk-parallel-item:only-child::after {width: 0;}#sk-container-id-1 div.sk-dashed-wrapped {border: 1px dashed gray;margin: 0 0.4em 0.5em 0.4em;box-sizing: border-box;padding-bottom: 0.4em;background-color: white;}#sk-container-id-1 div.sk-label label {font-family: monospace;font-weight: bold;display: inline-block;line-height: 1.2em;}#sk-container-id-1 div.sk-label-container {text-align: center;}#sk-container-id-1 div.sk-container {/* jupyter's `normalize.less` sets `[hidden] { display: none; }` but bootstrap.min.css set `[hidden] { display: none !important; }` so we also need the `!important` here to be able to override the default hidden behavior on the sphinx rendered scikit-learn.org. See: https://github.com/scikit-learn/scikit-learn/issues/21755 */display: inline-block !important;position: relative;}#sk-container-id-1 div.sk-text-repr-fallback {display: none;}</style><div id=\"sk-container-id-1\" class=\"sk-top-container\"><div class=\"sk-text-repr-fallback\"><pre>GridSearchCV(cv=5, estimator=GaussianNB(),\n",
       "             param_grid={&#x27;var_smoothing&#x27;: array([1.00000000e+00, 8.11130831e-01, 6.57933225e-01, 5.33669923e-01,\n",
       "       4.32876128e-01, 3.51119173e-01, 2.84803587e-01, 2.31012970e-01,\n",
       "       1.87381742e-01, 1.51991108e-01, 1.23284674e-01, 1.00000000e-01,\n",
       "       8.11130831e-02, 6.57933225e-02, 5.33669923e-02, 4.32876128e-02,\n",
       "       3.51119173e-02, 2.84803587e-02, 2.31...\n",
       "       1.23284674e-07, 1.00000000e-07, 8.11130831e-08, 6.57933225e-08,\n",
       "       5.33669923e-08, 4.32876128e-08, 3.51119173e-08, 2.84803587e-08,\n",
       "       2.31012970e-08, 1.87381742e-08, 1.51991108e-08, 1.23284674e-08,\n",
       "       1.00000000e-08, 8.11130831e-09, 6.57933225e-09, 5.33669923e-09,\n",
       "       4.32876128e-09, 3.51119173e-09, 2.84803587e-09, 2.31012970e-09,\n",
       "       1.87381742e-09, 1.51991108e-09, 1.23284674e-09, 1.00000000e-09])},\n",
       "             scoring=&#x27;accuracy&#x27;, verbose=1)</pre><b>In a Jupyter environment, please rerun this cell to show the HTML representation or trust the notebook. <br />On GitHub, the HTML representation is unable to render, please try loading this page with nbviewer.org.</b></div><div class=\"sk-container\" hidden><div class=\"sk-item sk-dashed-wrapped\"><div class=\"sk-label-container\"><div class=\"sk-label sk-toggleable\"><input class=\"sk-toggleable__control sk-hidden--visually\" id=\"sk-estimator-id-1\" type=\"checkbox\" ><label for=\"sk-estimator-id-1\" class=\"sk-toggleable__label sk-toggleable__label-arrow\">GridSearchCV</label><div class=\"sk-toggleable__content\"><pre>GridSearchCV(cv=5, estimator=GaussianNB(),\n",
       "             param_grid={&#x27;var_smoothing&#x27;: array([1.00000000e+00, 8.11130831e-01, 6.57933225e-01, 5.33669923e-01,\n",
       "       4.32876128e-01, 3.51119173e-01, 2.84803587e-01, 2.31012970e-01,\n",
       "       1.87381742e-01, 1.51991108e-01, 1.23284674e-01, 1.00000000e-01,\n",
       "       8.11130831e-02, 6.57933225e-02, 5.33669923e-02, 4.32876128e-02,\n",
       "       3.51119173e-02, 2.84803587e-02, 2.31...\n",
       "       1.23284674e-07, 1.00000000e-07, 8.11130831e-08, 6.57933225e-08,\n",
       "       5.33669923e-08, 4.32876128e-08, 3.51119173e-08, 2.84803587e-08,\n",
       "       2.31012970e-08, 1.87381742e-08, 1.51991108e-08, 1.23284674e-08,\n",
       "       1.00000000e-08, 8.11130831e-09, 6.57933225e-09, 5.33669923e-09,\n",
       "       4.32876128e-09, 3.51119173e-09, 2.84803587e-09, 2.31012970e-09,\n",
       "       1.87381742e-09, 1.51991108e-09, 1.23284674e-09, 1.00000000e-09])},\n",
       "             scoring=&#x27;accuracy&#x27;, verbose=1)</pre></div></div></div><div class=\"sk-parallel\"><div class=\"sk-parallel-item\"><div class=\"sk-item\"><div class=\"sk-label-container\"><div class=\"sk-label sk-toggleable\"><input class=\"sk-toggleable__control sk-hidden--visually\" id=\"sk-estimator-id-2\" type=\"checkbox\" ><label for=\"sk-estimator-id-2\" class=\"sk-toggleable__label sk-toggleable__label-arrow\">estimator: GaussianNB</label><div class=\"sk-toggleable__content\"><pre>GaussianNB()</pre></div></div></div><div class=\"sk-serial\"><div class=\"sk-item\"><div class=\"sk-estimator sk-toggleable\"><input class=\"sk-toggleable__control sk-hidden--visually\" id=\"sk-estimator-id-3\" type=\"checkbox\" ><label for=\"sk-estimator-id-3\" class=\"sk-toggleable__label sk-toggleable__label-arrow\">GaussianNB</label><div class=\"sk-toggleable__content\"><pre>GaussianNB()</pre></div></div></div></div></div></div></div></div></div></div>"
      ],
      "text/plain": [
       "GridSearchCV(cv=5, estimator=GaussianNB(),\n",
       "             param_grid={'var_smoothing': array([1.00000000e+00, 8.11130831e-01, 6.57933225e-01, 5.33669923e-01,\n",
       "       4.32876128e-01, 3.51119173e-01, 2.84803587e-01, 2.31012970e-01,\n",
       "       1.87381742e-01, 1.51991108e-01, 1.23284674e-01, 1.00000000e-01,\n",
       "       8.11130831e-02, 6.57933225e-02, 5.33669923e-02, 4.32876128e-02,\n",
       "       3.51119173e-02, 2.84803587e-02, 2.31...\n",
       "       1.23284674e-07, 1.00000000e-07, 8.11130831e-08, 6.57933225e-08,\n",
       "       5.33669923e-08, 4.32876128e-08, 3.51119173e-08, 2.84803587e-08,\n",
       "       2.31012970e-08, 1.87381742e-08, 1.51991108e-08, 1.23284674e-08,\n",
       "       1.00000000e-08, 8.11130831e-09, 6.57933225e-09, 5.33669923e-09,\n",
       "       4.32876128e-09, 3.51119173e-09, 2.84803587e-09, 2.31012970e-09,\n",
       "       1.87381742e-09, 1.51991108e-09, 1.23284674e-09, 1.00000000e-09])},\n",
       "             scoring='accuracy', verbose=1)"
      ]
     },
     "execution_count": 65,
     "metadata": {},
     "output_type": "execute_result"
    }
   ],
   "source": [
    "from sklearn.model_selection import GridSearchCV\n",
    "nb_classifier = GaussianNB()\n",
    "\n",
    "params_NB = {'var_smoothing': np.logspace(0,-9, num=100)}\n",
    "gs_NB = GridSearchCV(estimator=nb_classifier, \n",
    "                 param_grid=params_NB, \n",
    "                 cv=5,   # use any cross validation technique \n",
    "                 verbose=1, \n",
    "                 scoring='accuracy') \n",
    "gs_NB.fit(x_train, y_train)"
   ]
  },
  {
   "cell_type": "code",
   "execution_count": 66,
   "id": "b5720777",
   "metadata": {},
   "outputs": [
    {
     "data": {
      "text/plain": [
       "{'var_smoothing': 1e-05}"
      ]
     },
     "execution_count": 66,
     "metadata": {},
     "output_type": "execute_result"
    }
   ],
   "source": [
    "gs_NB.best_params_"
   ]
  },
  {
   "cell_type": "code",
   "execution_count": 67,
   "id": "54ed6253",
   "metadata": {},
   "outputs": [
    {
     "name": "stdout",
     "output_type": "stream",
     "text": [
      "0.8879310344827587\n"
     ]
    },
    {
     "data": {
      "text/html": [
       "<div>\n",
       "<style scoped>\n",
       "    .dataframe tbody tr th:only-of-type {\n",
       "        vertical-align: middle;\n",
       "    }\n",
       "\n",
       "    .dataframe tbody tr th {\n",
       "        vertical-align: top;\n",
       "    }\n",
       "\n",
       "    .dataframe thead th {\n",
       "        text-align: right;\n",
       "    }\n",
       "</style>\n",
       "<table border=\"1\" class=\"dataframe\">\n",
       "  <thead>\n",
       "    <tr style=\"text-align: right;\">\n",
       "      <th></th>\n",
       "      <th>precision</th>\n",
       "      <th>recall</th>\n",
       "      <th>f1-score</th>\n",
       "      <th>support</th>\n",
       "    </tr>\n",
       "  </thead>\n",
       "  <tbody>\n",
       "    <tr>\n",
       "      <th>0.0</th>\n",
       "      <td>1.000000</td>\n",
       "      <td>0.628571</td>\n",
       "      <td>0.771930</td>\n",
       "      <td>35.000000</td>\n",
       "    </tr>\n",
       "    <tr>\n",
       "      <th>1.0</th>\n",
       "      <td>0.861702</td>\n",
       "      <td>1.000000</td>\n",
       "      <td>0.925714</td>\n",
       "      <td>81.000000</td>\n",
       "    </tr>\n",
       "    <tr>\n",
       "      <th>accuracy</th>\n",
       "      <td>0.887931</td>\n",
       "      <td>0.887931</td>\n",
       "      <td>0.887931</td>\n",
       "      <td>0.887931</td>\n",
       "    </tr>\n",
       "    <tr>\n",
       "      <th>macro avg</th>\n",
       "      <td>0.930851</td>\n",
       "      <td>0.814286</td>\n",
       "      <td>0.848822</td>\n",
       "      <td>116.000000</td>\n",
       "    </tr>\n",
       "    <tr>\n",
       "      <th>weighted avg</th>\n",
       "      <td>0.903430</td>\n",
       "      <td>0.887931</td>\n",
       "      <td>0.879314</td>\n",
       "      <td>116.000000</td>\n",
       "    </tr>\n",
       "  </tbody>\n",
       "</table>\n",
       "</div>"
      ],
      "text/plain": [
       "              precision    recall  f1-score     support\n",
       "0.0            1.000000  0.628571  0.771930   35.000000\n",
       "1.0            0.861702  1.000000  0.925714   81.000000\n",
       "accuracy       0.887931  0.887931  0.887931    0.887931\n",
       "macro avg      0.930851  0.814286  0.848822  116.000000\n",
       "weighted avg   0.903430  0.887931  0.879314  116.000000"
      ]
     },
     "execution_count": 67,
     "metadata": {},
     "output_type": "execute_result"
    }
   ],
   "source": [
    "from sklearn.naive_bayes import GaussianNB\n",
    "GNB = GaussianNB(var_smoothing = 1e-05)\n",
    "\n",
    "GNB.fit(x_train,y_train)\n",
    "\n",
    "predGNB = GNB.predict(x_test)\n",
    "\n",
    "reportGNB = classification_report(y_test, predGNB, output_dict = True)\n",
    "  \n",
    "crGNB = pd.DataFrame(reportGNB).transpose()\n",
    "gnb_acc=accuracy_score(y_test,predGNB)\n",
    "print(gnb_acc)\n",
    "crGNB"
   ]
  },
  {
   "cell_type": "code",
   "execution_count": 68,
   "id": "b7d9916e",
   "metadata": {},
   "outputs": [
    {
     "data": {
      "text/plain": [
       "0.8146026986506746"
      ]
     },
     "execution_count": 68,
     "metadata": {},
     "output_type": "execute_result"
    }
   ],
   "source": [
    "gnb_cv=cross_val_score(GNB,x,y,scoring='accuracy', cv = 5).mean()\n",
    "gnb_cv"
   ]
  },
  {
   "cell_type": "markdown",
   "id": "88981f62",
   "metadata": {},
   "source": [
    "The best model is Gaussian NB with 88% accuracy"
   ]
  },
  {
   "cell_type": "markdown",
   "id": "4d3aa833",
   "metadata": {},
   "source": [
    "\n",
    "# Evaluation metric"
   ]
  },
  {
   "cell_type": "code",
   "execution_count": 69,
   "id": "d66af675",
   "metadata": {},
   "outputs": [],
   "source": [
    "from sklearn.datasets import make_circles\n",
    "from sklearn.metrics import accuracy_score\n",
    "from sklearn.metrics import precision_score\n",
    "from sklearn.metrics import recall_score\n",
    "from sklearn.metrics import f1_score\n",
    "from sklearn.metrics import roc_auc_score\n",
    "from sklearn.metrics import confusion_matrix"
   ]
  },
  {
   "cell_type": "code",
   "execution_count": 70,
   "id": "c1a668e6",
   "metadata": {},
   "outputs": [
    {
     "name": "stdout",
     "output_type": "stream",
     "text": [
      "------------------------------------------\n",
      "GaussianNB\n",
      "-----------------------------------------\n",
      "Accuracy: 0.887931\n",
      "Precision: 0.861702\n",
      "Recall: 1.000000\n",
      "F1 score: 0.925714\n"
     ]
    }
   ],
   "source": [
    "print(\"------------------------------------------\")\n",
    "print(\"GaussianNB\")\n",
    "print(\"-----------------------------------------\")\n",
    "# accuracy: (tp + tn) / (p + n)\n",
    "accuracy_gnb = gnb_acc\n",
    "print('Accuracy: %f' % accuracy_gnb)\n",
    "# precision tp / (tp + fp)\n",
    "precision_gnb = precision_score(y_test, predGNB)\n",
    "print('Precision: %f' % precision_gnb)\n",
    "# recall: tp / (tp + fn)\n",
    "recall_gnb = recall_score(y_test, predGNB)\n",
    "print('Recall: %f' % recall_gnb)\n",
    "# f1: 2 tp / (2 tp + fp + fn)\n",
    "f1_gnb = f1_score(y_test, predGNB)\n",
    "print('F1 score: %f' % f1_gnb)"
   ]
  },
  {
   "cell_type": "markdown",
   "id": "7f9dc4ab",
   "metadata": {},
   "source": [
    "# roc_auc_score"
   ]
  },
  {
   "cell_type": "code",
   "execution_count": 71,
   "id": "fc1758e8",
   "metadata": {},
   "outputs": [],
   "source": [
    "# train models\n",
    "model1 = GaussianNB()\n",
    "\n",
    "# fit model\n",
    "model1.fit(x_train, y_train)\n",
    "\n",
    "# predict probabilities\n",
    "pred_prob1 = model1.predict_proba(x_test)"
   ]
  },
  {
   "cell_type": "code",
   "execution_count": 72,
   "id": "7748749a",
   "metadata": {},
   "outputs": [],
   "source": [
    "from sklearn.metrics import roc_curve\n",
    "\n",
    "# roc curve for models\n",
    "fpr1, tpr1, thresh1 = roc_curve(y_test, pred_prob1[:,1], pos_label=1)\n",
    "\n",
    "# roc curve for tpr = fpr \n",
    "random_probs = [0 for i in range(len(y_test))]\n",
    "p_fpr, p_tpr, _ = roc_curve(y_test, random_probs, pos_label=1)"
   ]
  },
  {
   "cell_type": "code",
   "execution_count": 75,
   "id": "34abb13a",
   "metadata": {},
   "outputs": [
    {
     "name": "stdout",
     "output_type": "stream",
     "text": [
      "0.835626102292769\n"
     ]
    }
   ],
   "source": [
    "from sklearn.metrics import roc_auc_score\n",
    "\n",
    "# auc scores\n",
    "auc_score1 = roc_auc_score(y_test, pred_prob1[:,1])\n",
    "\n",
    "print(auc_score1)"
   ]
  },
  {
   "cell_type": "code",
   "execution_count": null,
   "id": "605c068f",
   "metadata": {},
   "outputs": [],
   "source": []
  }
 ],
 "metadata": {
  "kernelspec": {
   "display_name": "Python 3 (ipykernel)",
   "language": "python",
   "name": "python3"
  },
  "language_info": {
   "codemirror_mode": {
    "name": "ipython",
    "version": 3
   },
   "file_extension": ".py",
   "mimetype": "text/x-python",
   "name": "python",
   "nbconvert_exporter": "python",
   "pygments_lexer": "ipython3",
   "version": "3.11.3"
  }
 },
 "nbformat": 4,
 "nbformat_minor": 5
}
